{
 "cells": [
  {
   "cell_type": "code",
   "execution_count": 1,
   "id": "3ca703c3",
   "metadata": {
    "id": "iLF78tvkz_tz"
   },
   "outputs": [],
   "source": [
    "from allennlp.predictors.predictor import Predictor\n",
    "import allennlp_models.tagging\n",
    "import gensim"
   ]
  },
  {
   "cell_type": "code",
   "execution_count": 2,
   "id": "7b5fc26c",
   "metadata": {},
   "outputs": [],
   "source": [
    "import dill"
   ]
  },
  {
   "cell_type": "code",
   "execution_count": 3,
   "id": "32ed5f1a",
   "metadata": {
    "colab": {
     "base_uri": "https://localhost:8080/"
    },
    "id": "FQgZyRrYAOAz",
    "outputId": "1cb3040b-e846-458e-8272-51dffede96f8",
    "scrolled": false
   },
   "outputs": [
    {
     "name": "stderr",
     "output_type": "stream",
     "text": [
      "/Users/divyam/Semester 7/Project Elective - Prof Vinu/Web app/venv/lib/python3.9/site-packages/spacy/language.py:1895: UserWarning: [W123] Argument disable with value ['vectors', 'textcat', 'parser', 'ner'] is used instead of ['senter'] as specified in the config. Be aware that this might affect other components in your pipeline.\n",
      "  warnings.warn(\n"
     ]
    }
   ],
   "source": [
    "predictor_ner = Predictor.from_path(\"https://storage.googleapis.com/allennlp-public-models/ner-elmo.2021-02-12.tar.gz\")"
   ]
  },
  {
   "cell_type": "code",
   "execution_count": 4,
   "id": "23c4c28a",
   "metadata": {
    "colab": {
     "base_uri": "https://localhost:8080/"
    },
    "id": "L8isCOeML7Kf",
    "outputId": "a909c767-5b37-4114-abbb-0b0fa87b8716"
   },
   "outputs": [
    {
     "data": {
      "text/plain": [
       "<allennlp.predictors.sentence_tagger.SentenceTaggerPredictor at 0x17ff38b20>"
      ]
     },
     "execution_count": 4,
     "metadata": {},
     "output_type": "execute_result"
    }
   ],
   "source": [
    "predictor_ner"
   ]
  },
  {
   "cell_type": "code",
   "execution_count": 5,
   "id": "76dd97fd",
   "metadata": {
    "id": "6rABWPD4Z6Jp"
   },
   "outputs": [],
   "source": [
    "data = \"Albert Einstein was born in Germany and lived in England.\""
   ]
  },
  {
   "cell_type": "code",
   "execution_count": 6,
   "id": "1c06ce34",
   "metadata": {
    "id": "vqXqRFo0AODV"
   },
   "outputs": [],
   "source": [
    "results = predictor_ner.predict(sentence=data)"
   ]
  },
  {
   "cell_type": "code",
   "execution_count": 7,
   "id": "654aabaa",
   "metadata": {
    "id": "5vk-WsqenE4f"
   },
   "outputs": [],
   "source": [
    "lst = []\n",
    "\n",
    "for word, tag in zip(results['words'], results['tags']):\n",
    "  tpl = (word, tag)\n",
    "  lst.append(tpl) "
   ]
  },
  {
   "cell_type": "code",
   "execution_count": 8,
   "id": "62cfd9b4",
   "metadata": {
    "id": "W8BLJNUAHtGC"
   },
   "outputs": [],
   "source": [
    "final_lst = []\n",
    "i = 0\n",
    "n = len(lst)\n",
    "s = \"\"\n",
    "prev_tag = \"\"\n",
    "while i < n:\n",
    "  ps = lst[i][0]\n",
    "  pt = lst[i][1]\n",
    "\n",
    "  if pt[0] == 'B':\n",
    "    if s != \"\":\n",
    "      tpl = (s, prev_tag)\n",
    "      final_lst.append(tpl)\n",
    "    s = ps\n",
    "    prev_tag = pt[2:]\n",
    "\n",
    "  elif pt[0] == 'I': \n",
    "    s = s + \" \" + ps\n",
    "    prev_tag = pt[2:]\n",
    "\n",
    "  elif pt[0] == 'L':\n",
    "    s = s + \" \" + ps\n",
    "    tpl = (s, pt[2:])\n",
    "    final_lst.append(tpl)\n",
    "    s=\"\"\n",
    "\n",
    "  elif pt[0] == 'U':\n",
    "    if s!=\"\":\n",
    "      tpl = (s, prev_tag)\n",
    "      final_lst.append(tpl)\n",
    "    tpl1 = (ps, pt[2:])\n",
    "    final_lst.append(tpl1)\n",
    "    s=\"\"\n",
    "    prev_tag=\"\"\n",
    "\n",
    "  elif pt == \"O\":\n",
    "    if(prev_tag == \"O\"):\n",
    "      if ps == '.' or ps == ',':\n",
    "        s = s+ps\n",
    "      else:\n",
    "        s = s + \" \" + ps\n",
    "    else:\n",
    "      if s!=\"\":\n",
    "        tpl = (s, prev_tag)\n",
    "        final_lst.append(tpl)\n",
    "      s = ps\n",
    "    prev_tag = pt\n",
    "\n",
    "  i+=1\n",
    "\n",
    "if s!=\"\":\n",
    "  tpl = (s, prev_tag)\n",
    "  final_lst.append(tpl)"
   ]
  },
  {
   "cell_type": "code",
   "execution_count": 9,
   "id": "62cb7280",
   "metadata": {
    "colab": {
     "base_uri": "https://localhost:8080/"
    },
    "id": "_HkYtVPDl_gT",
    "outputId": "3bc65dad-7357-48dc-9b14-d136906f96a7"
   },
   "outputs": [
    {
     "name": "stdout",
     "output_type": "stream",
     "text": [
      "[('Albert Einstein', 'PER'), ('was born in', 'O'), ('Germany', 'LOC'), ('and lived in', 'O'), ('England', 'LOC'), ('.', 'O')]\n"
     ]
    }
   ],
   "source": [
    "print(final_lst)"
   ]
  },
  {
   "cell_type": "code",
   "execution_count": 10,
   "id": "75f42401",
   "metadata": {
    "colab": {
     "base_uri": "https://localhost:8080/"
    },
    "id": "i6RxAEh0nf2F",
    "outputId": "19cd5770-5936-456f-e036-4233b82a700b"
   },
   "outputs": [
    {
     "name": "stdout",
     "output_type": "stream",
     "text": [
      "[('Albert', 'B-PER'), ('Einstein', 'L-PER'), ('was', 'O'), ('born', 'O'), ('in', 'O'), ('Germany', 'U-LOC'), ('and', 'O'), ('lived', 'O'), ('in', 'O'), ('England', 'U-LOC'), ('.', 'O')]\n"
     ]
    }
   ],
   "source": [
    "print(lst)"
   ]
  },
  {
   "cell_type": "code",
   "execution_count": 11,
   "id": "68ce105a",
   "metadata": {
    "id": "h678BCI6drbI"
   },
   "outputs": [],
   "source": [
    "para = \"\"\n",
    "\n",
    "for item in final_lst:\n",
    "  if para == \"\":\n",
    "    para = item[0]\n",
    "  else:\n",
    "    para = para + \" \" + item[0]"
   ]
  },
  {
   "cell_type": "code",
   "execution_count": 12,
   "id": "aa9295f7",
   "metadata": {
    "colab": {
     "base_uri": "https://localhost:8080/",
     "height": 35
    },
    "id": "zU1Yw2QkeHIz",
    "outputId": "be3fa1fd-cd3f-47ac-dd67-d417764998a0"
   },
   "outputs": [
    {
     "data": {
      "text/plain": [
       "'Albert Einstein was born in Germany and lived in England .'"
      ]
     },
     "execution_count": 12,
     "metadata": {},
     "output_type": "execute_result"
    }
   ],
   "source": [
    "para"
   ]
  },
  {
   "cell_type": "code",
   "execution_count": 13,
   "id": "c04e5fb7",
   "metadata": {},
   "outputs": [],
   "source": [
    "file = open(\"./allen-nlp-ner.dill\", 'wb')"
   ]
  },
  {
   "cell_type": "code",
   "execution_count": 14,
   "id": "cea88b47",
   "metadata": {},
   "outputs": [],
   "source": [
    "dill.dump(predictor_ner, file)"
   ]
  },
  {
   "cell_type": "code",
   "execution_count": 15,
   "id": "8dde9eec",
   "metadata": {},
   "outputs": [],
   "source": [
    "file.close()"
   ]
  },
  {
   "cell_type": "code",
   "execution_count": 16,
   "id": "d9b586dc",
   "metadata": {},
   "outputs": [],
   "source": [
    "file = open(\"./allen-nlp-ner.dill\", 'rb')"
   ]
  },
  {
   "cell_type": "code",
   "execution_count": 17,
   "id": "ad542780",
   "metadata": {},
   "outputs": [],
   "source": [
    "nlp = dill.load(file)"
   ]
  },
  {
   "cell_type": "code",
   "execution_count": 18,
   "id": "670b234d",
   "metadata": {},
   "outputs": [
    {
     "data": {
      "text/plain": [
       "<allennlp.predictors.sentence_tagger.SentenceTaggerPredictor at 0x2869fa820>"
      ]
     },
     "execution_count": 18,
     "metadata": {},
     "output_type": "execute_result"
    }
   ],
   "source": [
    "nlp"
   ]
  },
  {
   "cell_type": "code",
   "execution_count": 19,
   "id": "f17569ca",
   "metadata": {},
   "outputs": [],
   "source": [
    "file.close()"
   ]
  },
  {
   "cell_type": "code",
   "execution_count": 20,
   "id": "d24a8f0b",
   "metadata": {},
   "outputs": [],
   "source": [
    "results_load = nlp.predict(sentence=data)"
   ]
  },
  {
   "cell_type": "code",
   "execution_count": 21,
   "id": "df981123",
   "metadata": {},
   "outputs": [],
   "source": [
    "lst2 = []\n",
    "\n",
    "for word, tag in zip(results_load['words'], results_load['tags']):\n",
    "  tpl = (word, tag)\n",
    "  lst2.append(tpl) "
   ]
  },
  {
   "cell_type": "code",
   "execution_count": 22,
   "id": "4536e732",
   "metadata": {},
   "outputs": [
    {
     "data": {
      "text/plain": [
       "[('Albert', 'B-PER'),\n",
       " ('Einstein', 'L-PER'),\n",
       " ('was', 'O'),\n",
       " ('born', 'O'),\n",
       " ('in', 'O'),\n",
       " ('Germany', 'U-LOC'),\n",
       " ('and', 'O'),\n",
       " ('lived', 'O'),\n",
       " ('in', 'O'),\n",
       " ('England', 'U-LOC'),\n",
       " ('.', 'O')]"
      ]
     },
     "execution_count": 22,
     "metadata": {},
     "output_type": "execute_result"
    }
   ],
   "source": [
    "lst2"
   ]
  },
  {
   "cell_type": "code",
   "execution_count": null,
   "id": "29878435",
   "metadata": {},
   "outputs": [],
   "source": []
  }
 ],
 "metadata": {
  "kernelspec": {
   "display_name": "Python 3 (ipykernel)",
   "language": "python",
   "name": "python3"
  },
  "language_info": {
   "codemirror_mode": {
    "name": "ipython",
    "version": 3
   },
   "file_extension": ".py",
   "mimetype": "text/x-python",
   "name": "python",
   "nbconvert_exporter": "python",
   "pygments_lexer": "ipython3",
   "version": "3.9.6"
  }
 },
 "nbformat": 4,
 "nbformat_minor": 5
}
