{
 "cells": [
  {
   "cell_type": "markdown",
   "metadata": {
    "id": "4Kj6A_Hgz1Ao"
   },
   "source": [
    "# Pre-Midterm"
   ]
  },
  {
   "cell_type": "markdown",
   "metadata": {
    "id": "8c6IQRIHoPCZ"
   },
   "source": [
    "## Installation of libraries"
   ]
  },
  {
   "cell_type": "code",
   "execution_count": 1,
   "metadata": {
    "colab": {
     "base_uri": "https://localhost:8080/",
     "height": 0
    },
    "id": "NyeQwrRIzDht",
    "outputId": "fb4c76a3-d353-4494-d51d-dfe1eb46d6ca"
   },
   "outputs": [
    {
     "name": "stdout",
     "output_type": "stream",
     "text": [
      "Looking in indexes: https://pypi.org/simple, https://us-python.pkg.dev/colab-wheels/public/simple/\n",
      "Collecting allennlp==2.1.0\n",
      "  Downloading allennlp-2.1.0-py3-none-any.whl (585 kB)\n",
      "\u001b[K     |████████████████████████████████| 585 kB 8.7 MB/s \n",
      "\u001b[?25hCollecting allennlp-models==2.1.0\n",
      "  Downloading allennlp_models-2.1.0-py3-none-any.whl (407 kB)\n",
      "\u001b[K     |████████████████████████████████| 407 kB 52.1 MB/s \n",
      "\u001b[?25hRequirement already satisfied: scipy in /usr/local/lib/python3.7/dist-packages (from allennlp==2.1.0) (1.7.3)\n",
      "Requirement already satisfied: more-itertools in /usr/local/lib/python3.7/dist-packages (from allennlp==2.1.0) (9.0.0)\n",
      "Requirement already satisfied: requests>=2.18 in /usr/local/lib/python3.7/dist-packages (from allennlp==2.1.0) (2.23.0)\n",
      "Collecting spacy<3.1,>=2.1.0\n",
      "  Downloading spacy-3.0.8-cp37-cp37m-manylinux_2_17_x86_64.manylinux2014_x86_64.whl (5.8 MB)\n",
      "\u001b[K     |████████████████████████████████| 5.8 MB 48.1 MB/s \n",
      "\u001b[?25hCollecting transformers<4.4,>=4.1\n",
      "  Downloading transformers-4.3.3-py3-none-any.whl (1.9 MB)\n",
      "\u001b[K     |████████████████████████████████| 1.9 MB 43.5 MB/s \n",
      "\u001b[?25hCollecting jsonpickle\n",
      "  Downloading jsonpickle-2.2.0-py2.py3-none-any.whl (39 kB)\n",
      "Collecting boto3<2.0,>=1.14\n",
      "  Downloading boto3-1.26.4-py3-none-any.whl (132 kB)\n",
      "\u001b[K     |████████████████████████████████| 132 kB 71.2 MB/s \n",
      "\u001b[?25hRequirement already satisfied: pytest in /usr/local/lib/python3.7/dist-packages (from allennlp==2.1.0) (3.6.4)\n",
      "Collecting tensorboardX>=1.2\n",
      "  Downloading tensorboardX-2.5.1-py2.py3-none-any.whl (125 kB)\n",
      "\u001b[K     |████████████████████████████████| 125 kB 72.5 MB/s \n",
      "\u001b[?25hCollecting filelock<3.1,>=3.0\n",
      "  Downloading filelock-3.0.12-py3-none-any.whl (7.6 kB)\n",
      "Requirement already satisfied: numpy in /usr/local/lib/python3.7/dist-packages (from allennlp==2.1.0) (1.21.6)\n",
      "Requirement already satisfied: tqdm>=4.19 in /usr/local/lib/python3.7/dist-packages (from allennlp==2.1.0) (4.64.1)\n",
      "Requirement already satisfied: h5py in /usr/local/lib/python3.7/dist-packages (from allennlp==2.1.0) (3.1.0)\n",
      "Collecting overrides==3.1.0\n",
      "  Downloading overrides-3.1.0.tar.gz (11 kB)\n",
      "Collecting sentencepiece\n",
      "  Downloading sentencepiece-0.1.97-cp37-cp37m-manylinux_2_17_x86_64.manylinux2014_x86_64.whl (1.3 MB)\n",
      "\u001b[K     |████████████████████████████████| 1.3 MB 56.1 MB/s \n",
      "\u001b[?25hCollecting torchvision<0.9.0,>=0.8.1\n",
      "  Downloading torchvision-0.8.2-cp37-cp37m-manylinux1_x86_64.whl (12.8 MB)\n",
      "\u001b[K     |████████████████████████████████| 12.8 MB 44.7 MB/s \n",
      "\u001b[?25hRequirement already satisfied: nltk in /usr/local/lib/python3.7/dist-packages (from allennlp==2.1.0) (3.7)\n",
      "Collecting torch<1.8.0,>=1.6.0\n",
      "  Downloading torch-1.7.1-cp37-cp37m-manylinux1_x86_64.whl (776.8 MB)\n",
      "\u001b[K     |████████████████████████████████| 776.8 MB 17 kB/s \n",
      "\u001b[?25hRequirement already satisfied: scikit-learn in /usr/local/lib/python3.7/dist-packages (from allennlp==2.1.0) (1.0.2)\n",
      "Collecting jsonnet>=0.10.0\n",
      "  Downloading jsonnet-0.19.1.tar.gz (593 kB)\n",
      "\u001b[K     |████████████████████████████████| 593 kB 56.6 MB/s \n",
      "\u001b[?25hRequirement already satisfied: lmdb in /usr/local/lib/python3.7/dist-packages (from allennlp==2.1.0) (0.99)\n",
      "Collecting py-rouge==1.1\n",
      "  Downloading py_rouge-1.1-py3-none-any.whl (56 kB)\n",
      "\u001b[K     |████████████████████████████████| 56 kB 4.8 MB/s \n",
      "\u001b[?25hCollecting conllu==4.4\n",
      "  Downloading conllu-4.4-py2.py3-none-any.whl (15 kB)\n",
      "Collecting word2number>=1.1\n",
      "  Downloading word2number-1.1.zip (9.7 kB)\n",
      "Collecting ftfy\n",
      "  Downloading ftfy-6.1.1-py3-none-any.whl (53 kB)\n",
      "\u001b[K     |████████████████████████████████| 53 kB 2.0 MB/s \n",
      "\u001b[?25hCollecting s3transfer<0.7.0,>=0.6.0\n",
      "  Downloading s3transfer-0.6.0-py3-none-any.whl (79 kB)\n",
      "\u001b[K     |████████████████████████████████| 79 kB 6.8 MB/s \n",
      "\u001b[?25hCollecting botocore<1.30.0,>=1.29.4\n",
      "  Downloading botocore-1.29.4-py3-none-any.whl (9.8 MB)\n",
      "\u001b[K     |████████████████████████████████| 9.8 MB 36.6 MB/s \n",
      "\u001b[?25hCollecting jmespath<2.0.0,>=0.7.1\n",
      "  Downloading jmespath-1.0.1-py3-none-any.whl (20 kB)\n",
      "Collecting urllib3<1.27,>=1.25.4\n",
      "  Downloading urllib3-1.26.12-py2.py3-none-any.whl (140 kB)\n",
      "\u001b[K     |████████████████████████████████| 140 kB 52.1 MB/s \n",
      "\u001b[?25hRequirement already satisfied: python-dateutil<3.0.0,>=2.1 in /usr/local/lib/python3.7/dist-packages (from botocore<1.30.0,>=1.29.4->boto3<2.0,>=1.14->allennlp==2.1.0) (2.8.2)\n",
      "Requirement already satisfied: six>=1.5 in /usr/local/lib/python3.7/dist-packages (from python-dateutil<3.0.0,>=2.1->botocore<1.30.0,>=1.29.4->boto3<2.0,>=1.14->allennlp==2.1.0) (1.15.0)\n",
      "Requirement already satisfied: idna<3,>=2.5 in /usr/local/lib/python3.7/dist-packages (from requests>=2.18->allennlp==2.1.0) (2.10)\n",
      "  Downloading urllib3-1.25.11-py2.py3-none-any.whl (127 kB)\n",
      "\u001b[K     |████████████████████████████████| 127 kB 75.2 MB/s \n",
      "\u001b[?25hRequirement already satisfied: chardet<4,>=3.0.2 in /usr/local/lib/python3.7/dist-packages (from requests>=2.18->allennlp==2.1.0) (3.0.4)\n",
      "Requirement already satisfied: certifi>=2017.4.17 in /usr/local/lib/python3.7/dist-packages (from requests>=2.18->allennlp==2.1.0) (2022.9.24)\n",
      "Requirement already satisfied: catalogue<2.1.0,>=2.0.4 in /usr/local/lib/python3.7/dist-packages (from spacy<3.1,>=2.1.0->allennlp==2.1.0) (2.0.8)\n",
      "Requirement already satisfied: cymem<2.1.0,>=2.0.2 in /usr/local/lib/python3.7/dist-packages (from spacy<3.1,>=2.1.0->allennlp==2.1.0) (2.0.7)\n",
      "Requirement already satisfied: spacy-legacy<3.1.0,>=3.0.5 in /usr/local/lib/python3.7/dist-packages (from spacy<3.1,>=2.1.0->allennlp==2.1.0) (3.0.10)\n",
      "Collecting typer<0.4.0,>=0.3.0\n",
      "  Downloading typer-0.3.2-py3-none-any.whl (21 kB)\n",
      "Requirement already satisfied: murmurhash<1.1.0,>=0.28.0 in /usr/local/lib/python3.7/dist-packages (from spacy<3.1,>=2.1.0->allennlp==2.1.0) (1.0.9)\n",
      "Requirement already satisfied: pathy>=0.3.5 in /usr/local/lib/python3.7/dist-packages (from spacy<3.1,>=2.1.0->allennlp==2.1.0) (0.6.2)\n",
      "Requirement already satisfied: jinja2 in /usr/local/lib/python3.7/dist-packages (from spacy<3.1,>=2.1.0->allennlp==2.1.0) (2.11.3)\n",
      "Collecting thinc<8.1.0,>=8.0.3\n",
      "  Downloading thinc-8.0.17-cp37-cp37m-manylinux_2_17_x86_64.manylinux2014_x86_64.whl (660 kB)\n",
      "\u001b[K     |████████████████████████████████| 660 kB 62.7 MB/s \n",
      "\u001b[?25hRequirement already satisfied: preshed<3.1.0,>=3.0.2 in /usr/local/lib/python3.7/dist-packages (from spacy<3.1,>=2.1.0->allennlp==2.1.0) (3.0.8)\n",
      "Requirement already satisfied: setuptools in /usr/local/lib/python3.7/dist-packages (from spacy<3.1,>=2.1.0->allennlp==2.1.0) (57.4.0)\n",
      "Requirement already satisfied: srsly<3.0.0,>=2.4.1 in /usr/local/lib/python3.7/dist-packages (from spacy<3.1,>=2.1.0->allennlp==2.1.0) (2.4.5)\n",
      "Requirement already satisfied: wasabi<1.1.0,>=0.8.1 in /usr/local/lib/python3.7/dist-packages (from spacy<3.1,>=2.1.0->allennlp==2.1.0) (0.10.1)\n",
      "Collecting pydantic!=1.8,!=1.8.1,<1.9.0,>=1.7.4\n",
      "  Downloading pydantic-1.8.2-cp37-cp37m-manylinux2014_x86_64.whl (10.1 MB)\n",
      "\u001b[K     |████████████████████████████████| 10.1 MB 45.8 MB/s \n",
      "\u001b[?25hRequirement already satisfied: packaging>=20.0 in /usr/local/lib/python3.7/dist-packages (from spacy<3.1,>=2.1.0->allennlp==2.1.0) (21.3)\n",
      "Requirement already satisfied: blis<0.8.0,>=0.4.0 in /usr/local/lib/python3.7/dist-packages (from spacy<3.1,>=2.1.0->allennlp==2.1.0) (0.7.9)\n",
      "Collecting typing-extensions<4.0.0.0,>=3.7.4\n",
      "  Downloading typing_extensions-3.10.0.2-py3-none-any.whl (26 kB)\n",
      "Requirement already satisfied: zipp>=0.5 in /usr/local/lib/python3.7/dist-packages (from catalogue<2.1.0,>=2.0.4->spacy<3.1,>=2.1.0->allennlp==2.1.0) (3.10.0)\n",
      "Requirement already satisfied: pyparsing!=3.0.5,>=2.0.2 in /usr/local/lib/python3.7/dist-packages (from packaging>=20.0->spacy<3.1,>=2.1.0->allennlp==2.1.0) (3.0.9)\n",
      "Requirement already satisfied: smart-open<6.0.0,>=5.2.1 in /usr/local/lib/python3.7/dist-packages (from pathy>=0.3.5->spacy<3.1,>=2.1.0->allennlp==2.1.0) (5.2.1)\n",
      "Requirement already satisfied: protobuf<=3.20.1,>=3.8.0 in /usr/local/lib/python3.7/dist-packages (from tensorboardX>=1.2->allennlp==2.1.0) (3.17.3)\n",
      "Requirement already satisfied: pillow>=4.1.1 in /usr/local/lib/python3.7/dist-packages (from torchvision<0.9.0,>=0.8.1->allennlp==2.1.0) (7.1.2)\n",
      "Collecting sacremoses\n",
      "  Downloading sacremoses-0.0.53.tar.gz (880 kB)\n",
      "\u001b[K     |████████████████████████████████| 880 kB 57.5 MB/s \n",
      "\u001b[?25hCollecting tokenizers<0.11,>=0.10.1\n",
      "  Downloading tokenizers-0.10.3-cp37-cp37m-manylinux_2_5_x86_64.manylinux1_x86_64.manylinux_2_12_x86_64.manylinux2010_x86_64.whl (3.3 MB)\n",
      "\u001b[K     |████████████████████████████████| 3.3 MB 44.6 MB/s \n",
      "\u001b[?25hRequirement already satisfied: regex!=2019.12.17 in /usr/local/lib/python3.7/dist-packages (from transformers<4.4,>=4.1->allennlp==2.1.0) (2022.6.2)\n",
      "Requirement already satisfied: importlib-metadata in /usr/local/lib/python3.7/dist-packages (from transformers<4.4,>=4.1->allennlp==2.1.0) (4.13.0)\n",
      "Requirement already satisfied: click<7.2.0,>=7.1.1 in /usr/local/lib/python3.7/dist-packages (from typer<0.4.0,>=0.3.0->spacy<3.1,>=2.1.0->allennlp==2.1.0) (7.1.2)\n",
      "Requirement already satisfied: wcwidth>=0.2.5 in /usr/local/lib/python3.7/dist-packages (from ftfy->allennlp-models==2.1.0) (0.2.5)\n",
      "Requirement already satisfied: cached-property in /usr/local/lib/python3.7/dist-packages (from h5py->allennlp==2.1.0) (1.5.2)\n",
      "Requirement already satisfied: MarkupSafe>=0.23 in /usr/local/lib/python3.7/dist-packages (from jinja2->spacy<3.1,>=2.1.0->allennlp==2.1.0) (2.0.1)\n",
      "Requirement already satisfied: joblib in /usr/local/lib/python3.7/dist-packages (from nltk->allennlp==2.1.0) (1.2.0)\n",
      "Requirement already satisfied: pluggy<0.8,>=0.5 in /usr/local/lib/python3.7/dist-packages (from pytest->allennlp==2.1.0) (0.7.1)\n",
      "Requirement already satisfied: py>=1.5.0 in /usr/local/lib/python3.7/dist-packages (from pytest->allennlp==2.1.0) (1.11.0)\n",
      "Requirement already satisfied: attrs>=17.4.0 in /usr/local/lib/python3.7/dist-packages (from pytest->allennlp==2.1.0) (22.1.0)\n",
      "Requirement already satisfied: atomicwrites>=1.0 in /usr/local/lib/python3.7/dist-packages (from pytest->allennlp==2.1.0) (1.4.1)\n",
      "Requirement already satisfied: threadpoolctl>=2.0.0 in /usr/local/lib/python3.7/dist-packages (from scikit-learn->allennlp==2.1.0) (3.1.0)\n",
      "Building wheels for collected packages: overrides, jsonnet, word2number, sacremoses\n",
      "  Building wheel for overrides (setup.py) ... \u001b[?25l\u001b[?25hdone\n",
      "  Created wheel for overrides: filename=overrides-3.1.0-py3-none-any.whl size=10187 sha256=1fede7271bb7100157d577677ecd13d859588de41c3788db4cb69b7fbd226b5b\n",
      "  Stored in directory: /root/.cache/pip/wheels/3a/0d/38/01a9bc6e20dcfaf0a6a7b552d03137558ba1c38aea47644682\n",
      "  Building wheel for jsonnet (setup.py) ... \u001b[?25l\u001b[?25hdone\n",
      "  Created wheel for jsonnet: filename=jsonnet-0.19.1-cp37-cp37m-linux_x86_64.whl size=3997194 sha256=5564a718ea796c6e29f781cc50ad0c4cda574a6b0b75565e9b2afaddcff13e4e\n",
      "  Stored in directory: /root/.cache/pip/wheels/03/6b/48/a168ed5f8d01c50268605eff341c29126286763607bf707e3b\n",
      "  Building wheel for word2number (setup.py) ... \u001b[?25l\u001b[?25hdone\n",
      "  Created wheel for word2number: filename=word2number-1.1-py3-none-any.whl size=5582 sha256=ae0c533bdf02fd25e33f3332a3f108f9c1687842f2048af26f406c9eff7ebd74\n",
      "  Stored in directory: /root/.cache/pip/wheels/4b/c3/77/a5f48aeb0d3efb7cd5ad61cbd3da30bbf9ffc9662b07c9f879\n",
      "  Building wheel for sacremoses (setup.py) ... \u001b[?25l\u001b[?25hdone\n",
      "  Created wheel for sacremoses: filename=sacremoses-0.0.53-py3-none-any.whl size=895260 sha256=656231184754723e0c6a2f1109a6af866343053107329457983a9f1ae25dec3c\n",
      "  Stored in directory: /root/.cache/pip/wheels/87/39/dd/a83eeef36d0bf98e7a4d1933a4ad2d660295a40613079bafc9\n",
      "Successfully built overrides jsonnet word2number sacremoses\n",
      "Installing collected packages: typing-extensions, urllib3, jmespath, typer, pydantic, botocore, torch, tokenizers, thinc, sacremoses, s3transfer, filelock, transformers, torchvision, tensorboardX, spacy, sentencepiece, overrides, jsonpickle, jsonnet, boto3, word2number, py-rouge, ftfy, conllu, allennlp, allennlp-models\n",
      "  Attempting uninstall: typing-extensions\n",
      "    Found existing installation: typing-extensions 4.1.1\n",
      "    Uninstalling typing-extensions-4.1.1:\n",
      "      Successfully uninstalled typing-extensions-4.1.1\n",
      "  Attempting uninstall: urllib3\n",
      "    Found existing installation: urllib3 1.24.3\n",
      "    Uninstalling urllib3-1.24.3:\n",
      "      Successfully uninstalled urllib3-1.24.3\n",
      "  Attempting uninstall: typer\n",
      "    Found existing installation: typer 0.4.2\n",
      "    Uninstalling typer-0.4.2:\n",
      "      Successfully uninstalled typer-0.4.2\n",
      "  Attempting uninstall: pydantic\n",
      "    Found existing installation: pydantic 1.10.2\n",
      "    Uninstalling pydantic-1.10.2:\n",
      "      Successfully uninstalled pydantic-1.10.2\n",
      "  Attempting uninstall: torch\n",
      "    Found existing installation: torch 1.12.1+cu113\n",
      "    Uninstalling torch-1.12.1+cu113:\n",
      "      Successfully uninstalled torch-1.12.1+cu113\n",
      "  Attempting uninstall: thinc\n",
      "    Found existing installation: thinc 8.1.5\n",
      "    Uninstalling thinc-8.1.5:\n",
      "      Successfully uninstalled thinc-8.1.5\n",
      "  Attempting uninstall: filelock\n",
      "    Found existing installation: filelock 3.8.0\n",
      "    Uninstalling filelock-3.8.0:\n",
      "      Successfully uninstalled filelock-3.8.0\n",
      "  Attempting uninstall: torchvision\n",
      "    Found existing installation: torchvision 0.13.1+cu113\n",
      "    Uninstalling torchvision-0.13.1+cu113:\n",
      "      Successfully uninstalled torchvision-0.13.1+cu113\n",
      "  Attempting uninstall: spacy\n",
      "    Found existing installation: spacy 3.4.2\n",
      "    Uninstalling spacy-3.4.2:\n",
      "      Successfully uninstalled spacy-3.4.2\n",
      "\u001b[31mERROR: pip's dependency resolver does not currently take into account all the packages that are installed. This behaviour is the source of the following dependency conflicts.\n",
      "torchtext 0.13.1 requires torch==1.12.1, but you have torch 1.7.1 which is incompatible.\n",
      "torchaudio 0.12.1+cu113 requires torch==1.12.1, but you have torch 1.7.1 which is incompatible.\n",
      "en-core-web-sm 3.4.1 requires spacy<3.5.0,>=3.4.0, but you have spacy 3.0.8 which is incompatible.\u001b[0m\n",
      "Successfully installed allennlp-2.1.0 allennlp-models-2.1.0 boto3-1.26.4 botocore-1.29.4 conllu-4.4 filelock-3.0.12 ftfy-6.1.1 jmespath-1.0.1 jsonnet-0.19.1 jsonpickle-2.2.0 overrides-3.1.0 py-rouge-1.1 pydantic-1.8.2 s3transfer-0.6.0 sacremoses-0.0.53 sentencepiece-0.1.97 spacy-3.0.8 tensorboardX-2.5.1 thinc-8.0.17 tokenizers-0.10.3 torch-1.7.1 torchvision-0.8.2 transformers-4.3.3 typer-0.3.2 typing-extensions-3.10.0.2 urllib3-1.25.11 word2number-1.1\n"
     ]
    },
    {
     "data": {
      "application/vnd.colab-display-data+json": {
       "pip_warning": {
        "packages": [
         "typing_extensions"
        ]
       }
      }
     },
     "metadata": {},
     "output_type": "display_data"
    }
   ],
   "source": [
    "!pip install allennlp==2.1.0 allennlp-models==2.1.0"
   ]
  },
  {
   "cell_type": "code",
   "execution_count": 2,
   "metadata": {
    "colab": {
     "base_uri": "https://localhost:8080/"
    },
    "id": "mmaH8kr1z_op",
    "outputId": "dea5ec5a-5f89-47f2-f1c7-1d40d4689018"
   },
   "outputs": [
    {
     "name": "stdout",
     "output_type": "stream",
     "text": [
      "Looking in indexes: https://pypi.org/simple, https://us-python.pkg.dev/colab-wheels/public/simple/\n",
      "Requirement already satisfied: allennlp-models in /usr/local/lib/python3.7/dist-packages (2.1.0)\n",
      "Requirement already satisfied: word2number>=1.1 in /usr/local/lib/python3.7/dist-packages (from allennlp-models) (1.1)\n",
      "Requirement already satisfied: ftfy in /usr/local/lib/python3.7/dist-packages (from allennlp-models) (6.1.1)\n",
      "Requirement already satisfied: py-rouge==1.1 in /usr/local/lib/python3.7/dist-packages (from allennlp-models) (1.1)\n",
      "Requirement already satisfied: conllu==4.4 in /usr/local/lib/python3.7/dist-packages (from allennlp-models) (4.4)\n",
      "Requirement already satisfied: allennlp<2.2,>=2.1.0 in /usr/local/lib/python3.7/dist-packages (from allennlp-models) (2.1.0)\n",
      "Requirement already satisfied: nltk in /usr/local/lib/python3.7/dist-packages (from allennlp-models) (3.7)\n",
      "Requirement already satisfied: torch<1.8.0,>=1.7.0 in /usr/local/lib/python3.7/dist-packages (from allennlp-models) (1.7.1)\n",
      "Requirement already satisfied: jsonpickle in /usr/local/lib/python3.7/dist-packages (from allennlp<2.2,>=2.1.0->allennlp-models) (2.2.0)\n",
      "Requirement already satisfied: h5py in /usr/local/lib/python3.7/dist-packages (from allennlp<2.2,>=2.1.0->allennlp-models) (3.1.0)\n",
      "Requirement already satisfied: requests>=2.18 in /usr/local/lib/python3.7/dist-packages (from allennlp<2.2,>=2.1.0->allennlp-models) (2.23.0)\n",
      "Requirement already satisfied: scikit-learn in /usr/local/lib/python3.7/dist-packages (from allennlp<2.2,>=2.1.0->allennlp-models) (1.0.2)\n",
      "Requirement already satisfied: jsonnet>=0.10.0 in /usr/local/lib/python3.7/dist-packages (from allennlp<2.2,>=2.1.0->allennlp-models) (0.19.1)\n",
      "Requirement already satisfied: scipy in /usr/local/lib/python3.7/dist-packages (from allennlp<2.2,>=2.1.0->allennlp-models) (1.7.3)\n",
      "Requirement already satisfied: tqdm>=4.19 in /usr/local/lib/python3.7/dist-packages (from allennlp<2.2,>=2.1.0->allennlp-models) (4.64.1)\n",
      "Requirement already satisfied: overrides==3.1.0 in /usr/local/lib/python3.7/dist-packages (from allennlp<2.2,>=2.1.0->allennlp-models) (3.1.0)\n",
      "Requirement already satisfied: boto3<2.0,>=1.14 in /usr/local/lib/python3.7/dist-packages (from allennlp<2.2,>=2.1.0->allennlp-models) (1.26.4)\n",
      "Requirement already satisfied: more-itertools in /usr/local/lib/python3.7/dist-packages (from allennlp<2.2,>=2.1.0->allennlp-models) (9.0.0)\n",
      "Requirement already satisfied: torchvision<0.9.0,>=0.8.1 in /usr/local/lib/python3.7/dist-packages (from allennlp<2.2,>=2.1.0->allennlp-models) (0.8.2)\n",
      "Requirement already satisfied: lmdb in /usr/local/lib/python3.7/dist-packages (from allennlp<2.2,>=2.1.0->allennlp-models) (0.99)\n",
      "Requirement already satisfied: numpy in /usr/local/lib/python3.7/dist-packages (from allennlp<2.2,>=2.1.0->allennlp-models) (1.21.6)\n",
      "Requirement already satisfied: spacy<3.1,>=2.1.0 in /usr/local/lib/python3.7/dist-packages (from allennlp<2.2,>=2.1.0->allennlp-models) (3.0.8)\n",
      "Requirement already satisfied: tensorboardX>=1.2 in /usr/local/lib/python3.7/dist-packages (from allennlp<2.2,>=2.1.0->allennlp-models) (2.5.1)\n",
      "Requirement already satisfied: sentencepiece in /usr/local/lib/python3.7/dist-packages (from allennlp<2.2,>=2.1.0->allennlp-models) (0.1.97)\n",
      "Requirement already satisfied: transformers<4.4,>=4.1 in /usr/local/lib/python3.7/dist-packages (from allennlp<2.2,>=2.1.0->allennlp-models) (4.3.3)\n",
      "Requirement already satisfied: pytest in /usr/local/lib/python3.7/dist-packages (from allennlp<2.2,>=2.1.0->allennlp-models) (3.6.4)\n",
      "Requirement already satisfied: filelock<3.1,>=3.0 in /usr/local/lib/python3.7/dist-packages (from allennlp<2.2,>=2.1.0->allennlp-models) (3.0.12)\n",
      "Requirement already satisfied: botocore<1.30.0,>=1.29.4 in /usr/local/lib/python3.7/dist-packages (from boto3<2.0,>=1.14->allennlp<2.2,>=2.1.0->allennlp-models) (1.29.4)\n",
      "Requirement already satisfied: s3transfer<0.7.0,>=0.6.0 in /usr/local/lib/python3.7/dist-packages (from boto3<2.0,>=1.14->allennlp<2.2,>=2.1.0->allennlp-models) (0.6.0)\n",
      "Requirement already satisfied: jmespath<2.0.0,>=0.7.1 in /usr/local/lib/python3.7/dist-packages (from boto3<2.0,>=1.14->allennlp<2.2,>=2.1.0->allennlp-models) (1.0.1)\n",
      "Requirement already satisfied: urllib3<1.27,>=1.25.4 in /usr/local/lib/python3.7/dist-packages (from botocore<1.30.0,>=1.29.4->boto3<2.0,>=1.14->allennlp<2.2,>=2.1.0->allennlp-models) (1.25.11)\n",
      "Requirement already satisfied: python-dateutil<3.0.0,>=2.1 in /usr/local/lib/python3.7/dist-packages (from botocore<1.30.0,>=1.29.4->boto3<2.0,>=1.14->allennlp<2.2,>=2.1.0->allennlp-models) (2.8.2)\n",
      "Requirement already satisfied: six>=1.5 in /usr/local/lib/python3.7/dist-packages (from python-dateutil<3.0.0,>=2.1->botocore<1.30.0,>=1.29.4->boto3<2.0,>=1.14->allennlp<2.2,>=2.1.0->allennlp-models) (1.15.0)\n",
      "Requirement already satisfied: chardet<4,>=3.0.2 in /usr/local/lib/python3.7/dist-packages (from requests>=2.18->allennlp<2.2,>=2.1.0->allennlp-models) (3.0.4)\n",
      "Requirement already satisfied: idna<3,>=2.5 in /usr/local/lib/python3.7/dist-packages (from requests>=2.18->allennlp<2.2,>=2.1.0->allennlp-models) (2.10)\n",
      "Requirement already satisfied: certifi>=2017.4.17 in /usr/local/lib/python3.7/dist-packages (from requests>=2.18->allennlp<2.2,>=2.1.0->allennlp-models) (2022.9.24)\n",
      "Requirement already satisfied: srsly<3.0.0,>=2.4.1 in /usr/local/lib/python3.7/dist-packages (from spacy<3.1,>=2.1.0->allennlp<2.2,>=2.1.0->allennlp-models) (2.4.5)\n",
      "Requirement already satisfied: blis<0.8.0,>=0.4.0 in /usr/local/lib/python3.7/dist-packages (from spacy<3.1,>=2.1.0->allennlp<2.2,>=2.1.0->allennlp-models) (0.7.9)\n",
      "Requirement already satisfied: pydantic!=1.8,!=1.8.1,<1.9.0,>=1.7.4 in /usr/local/lib/python3.7/dist-packages (from spacy<3.1,>=2.1.0->allennlp<2.2,>=2.1.0->allennlp-models) (1.8.2)\n",
      "Requirement already satisfied: jinja2 in /usr/local/lib/python3.7/dist-packages (from spacy<3.1,>=2.1.0->allennlp<2.2,>=2.1.0->allennlp-models) (2.11.3)\n",
      "Requirement already satisfied: pathy>=0.3.5 in /usr/local/lib/python3.7/dist-packages (from spacy<3.1,>=2.1.0->allennlp<2.2,>=2.1.0->allennlp-models) (0.6.2)\n",
      "Requirement already satisfied: murmurhash<1.1.0,>=0.28.0 in /usr/local/lib/python3.7/dist-packages (from spacy<3.1,>=2.1.0->allennlp<2.2,>=2.1.0->allennlp-models) (1.0.9)\n",
      "Requirement already satisfied: thinc<8.1.0,>=8.0.3 in /usr/local/lib/python3.7/dist-packages (from spacy<3.1,>=2.1.0->allennlp<2.2,>=2.1.0->allennlp-models) (8.0.17)\n",
      "Requirement already satisfied: spacy-legacy<3.1.0,>=3.0.5 in /usr/local/lib/python3.7/dist-packages (from spacy<3.1,>=2.1.0->allennlp<2.2,>=2.1.0->allennlp-models) (3.0.10)\n",
      "Requirement already satisfied: typing-extensions<4.0.0.0,>=3.7.4 in /usr/local/lib/python3.7/dist-packages (from spacy<3.1,>=2.1.0->allennlp<2.2,>=2.1.0->allennlp-models) (3.10.0.2)\n",
      "Requirement already satisfied: wasabi<1.1.0,>=0.8.1 in /usr/local/lib/python3.7/dist-packages (from spacy<3.1,>=2.1.0->allennlp<2.2,>=2.1.0->allennlp-models) (0.10.1)\n",
      "Requirement already satisfied: setuptools in /usr/local/lib/python3.7/dist-packages (from spacy<3.1,>=2.1.0->allennlp<2.2,>=2.1.0->allennlp-models) (57.4.0)\n",
      "Requirement already satisfied: typer<0.4.0,>=0.3.0 in /usr/local/lib/python3.7/dist-packages (from spacy<3.1,>=2.1.0->allennlp<2.2,>=2.1.0->allennlp-models) (0.3.2)\n",
      "Requirement already satisfied: catalogue<2.1.0,>=2.0.4 in /usr/local/lib/python3.7/dist-packages (from spacy<3.1,>=2.1.0->allennlp<2.2,>=2.1.0->allennlp-models) (2.0.8)\n",
      "Requirement already satisfied: packaging>=20.0 in /usr/local/lib/python3.7/dist-packages (from spacy<3.1,>=2.1.0->allennlp<2.2,>=2.1.0->allennlp-models) (21.3)\n",
      "Requirement already satisfied: cymem<2.1.0,>=2.0.2 in /usr/local/lib/python3.7/dist-packages (from spacy<3.1,>=2.1.0->allennlp<2.2,>=2.1.0->allennlp-models) (2.0.7)\n",
      "Requirement already satisfied: preshed<3.1.0,>=3.0.2 in /usr/local/lib/python3.7/dist-packages (from spacy<3.1,>=2.1.0->allennlp<2.2,>=2.1.0->allennlp-models) (3.0.8)\n",
      "Requirement already satisfied: zipp>=0.5 in /usr/local/lib/python3.7/dist-packages (from catalogue<2.1.0,>=2.0.4->spacy<3.1,>=2.1.0->allennlp<2.2,>=2.1.0->allennlp-models) (3.10.0)\n",
      "Requirement already satisfied: pyparsing!=3.0.5,>=2.0.2 in /usr/local/lib/python3.7/dist-packages (from packaging>=20.0->spacy<3.1,>=2.1.0->allennlp<2.2,>=2.1.0->allennlp-models) (3.0.9)\n",
      "Requirement already satisfied: smart-open<6.0.0,>=5.2.1 in /usr/local/lib/python3.7/dist-packages (from pathy>=0.3.5->spacy<3.1,>=2.1.0->allennlp<2.2,>=2.1.0->allennlp-models) (5.2.1)\n",
      "Requirement already satisfied: protobuf<=3.20.1,>=3.8.0 in /usr/local/lib/python3.7/dist-packages (from tensorboardX>=1.2->allennlp<2.2,>=2.1.0->allennlp-models) (3.17.3)\n",
      "Requirement already satisfied: pillow>=4.1.1 in /usr/local/lib/python3.7/dist-packages (from torchvision<0.9.0,>=0.8.1->allennlp<2.2,>=2.1.0->allennlp-models) (7.1.2)\n",
      "Requirement already satisfied: tokenizers<0.11,>=0.10.1 in /usr/local/lib/python3.7/dist-packages (from transformers<4.4,>=4.1->allennlp<2.2,>=2.1.0->allennlp-models) (0.10.3)\n",
      "Requirement already satisfied: regex!=2019.12.17 in /usr/local/lib/python3.7/dist-packages (from transformers<4.4,>=4.1->allennlp<2.2,>=2.1.0->allennlp-models) (2022.6.2)\n",
      "Requirement already satisfied: sacremoses in /usr/local/lib/python3.7/dist-packages (from transformers<4.4,>=4.1->allennlp<2.2,>=2.1.0->allennlp-models) (0.0.53)\n",
      "Requirement already satisfied: importlib-metadata in /usr/local/lib/python3.7/dist-packages (from transformers<4.4,>=4.1->allennlp<2.2,>=2.1.0->allennlp-models) (4.13.0)\n",
      "Requirement already satisfied: click<7.2.0,>=7.1.1 in /usr/local/lib/python3.7/dist-packages (from typer<0.4.0,>=0.3.0->spacy<3.1,>=2.1.0->allennlp<2.2,>=2.1.0->allennlp-models) (7.1.2)\n",
      "Requirement already satisfied: wcwidth>=0.2.5 in /usr/local/lib/python3.7/dist-packages (from ftfy->allennlp-models) (0.2.5)\n",
      "Requirement already satisfied: cached-property in /usr/local/lib/python3.7/dist-packages (from h5py->allennlp<2.2,>=2.1.0->allennlp-models) (1.5.2)\n",
      "Requirement already satisfied: MarkupSafe>=0.23 in /usr/local/lib/python3.7/dist-packages (from jinja2->spacy<3.1,>=2.1.0->allennlp<2.2,>=2.1.0->allennlp-models) (2.0.1)\n",
      "Requirement already satisfied: joblib in /usr/local/lib/python3.7/dist-packages (from nltk->allennlp-models) (1.2.0)\n",
      "Requirement already satisfied: py>=1.5.0 in /usr/local/lib/python3.7/dist-packages (from pytest->allennlp<2.2,>=2.1.0->allennlp-models) (1.11.0)\n",
      "Requirement already satisfied: attrs>=17.4.0 in /usr/local/lib/python3.7/dist-packages (from pytest->allennlp<2.2,>=2.1.0->allennlp-models) (22.1.0)\n",
      "Requirement already satisfied: atomicwrites>=1.0 in /usr/local/lib/python3.7/dist-packages (from pytest->allennlp<2.2,>=2.1.0->allennlp-models) (1.4.1)\n",
      "Requirement already satisfied: pluggy<0.8,>=0.5 in /usr/local/lib/python3.7/dist-packages (from pytest->allennlp<2.2,>=2.1.0->allennlp-models) (0.7.1)\n",
      "Requirement already satisfied: threadpoolctl>=2.0.0 in /usr/local/lib/python3.7/dist-packages (from scikit-learn->allennlp<2.2,>=2.1.0->allennlp-models) (3.1.0)\n"
     ]
    }
   ],
   "source": [
    "!pip install allennlp-models"
   ]
  },
  {
   "cell_type": "code",
   "execution_count": 3,
   "metadata": {
    "colab": {
     "base_uri": "https://localhost:8080/"
    },
    "id": "K1Gu4FLTz_rL",
    "outputId": "4a4443c1-18e2-4dce-969f-c7275759137e"
   },
   "outputs": [
    {
     "name": "stdout",
     "output_type": "stream",
     "text": [
      "Looking in indexes: https://pypi.org/simple, https://us-python.pkg.dev/colab-wheels/public/simple/\n",
      "Requirement already satisfied: spacy in /usr/local/lib/python3.7/dist-packages (3.0.8)\n",
      "Collecting spacy\n",
      "  Downloading spacy-3.4.2-cp37-cp37m-manylinux_2_17_x86_64.manylinux2014_x86_64.whl (6.4 MB)\n",
      "\u001b[K     |████████████████████████████████| 6.4 MB 8.2 MB/s \n",
      "\u001b[?25hRequirement already satisfied: spacy-legacy<3.1.0,>=3.0.10 in /usr/local/lib/python3.7/dist-packages (from spacy) (3.0.10)\n",
      "Requirement already satisfied: pathy>=0.3.5 in /usr/local/lib/python3.7/dist-packages (from spacy) (0.6.2)\n",
      "Requirement already satisfied: srsly<3.0.0,>=2.4.3 in /usr/local/lib/python3.7/dist-packages (from spacy) (2.4.5)\n",
      "Requirement already satisfied: requests<3.0.0,>=2.13.0 in /usr/local/lib/python3.7/dist-packages (from spacy) (2.23.0)\n",
      "Requirement already satisfied: wasabi<1.1.0,>=0.9.1 in /usr/local/lib/python3.7/dist-packages (from spacy) (0.10.1)\n",
      "Requirement already satisfied: tqdm<5.0.0,>=4.38.0 in /usr/local/lib/python3.7/dist-packages (from spacy) (4.64.1)\n",
      "Requirement already satisfied: typer<0.5.0,>=0.3.0 in /usr/local/lib/python3.7/dist-packages (from spacy) (0.3.2)\n",
      "Requirement already satisfied: packaging>=20.0 in /usr/local/lib/python3.7/dist-packages (from spacy) (21.3)\n",
      "Requirement already satisfied: preshed<3.1.0,>=3.0.2 in /usr/local/lib/python3.7/dist-packages (from spacy) (3.0.8)\n",
      "Requirement already satisfied: pydantic!=1.8,!=1.8.1,<1.11.0,>=1.7.4 in /usr/local/lib/python3.7/dist-packages (from spacy) (1.8.2)\n",
      "Requirement already satisfied: catalogue<2.1.0,>=2.0.6 in /usr/local/lib/python3.7/dist-packages (from spacy) (2.0.8)\n",
      "Requirement already satisfied: langcodes<4.0.0,>=3.2.0 in /usr/local/lib/python3.7/dist-packages (from spacy) (3.3.0)\n",
      "Collecting thinc<8.2.0,>=8.1.0\n",
      "  Downloading thinc-8.1.5-cp37-cp37m-manylinux_2_17_x86_64.manylinux2014_x86_64.whl (806 kB)\n",
      "\u001b[K     |████████████████████████████████| 806 kB 59.3 MB/s \n",
      "\u001b[?25hRequirement already satisfied: typing-extensions<4.2.0,>=3.7.4 in /usr/local/lib/python3.7/dist-packages (from spacy) (3.10.0.2)\n",
      "Requirement already satisfied: numpy>=1.15.0 in /usr/local/lib/python3.7/dist-packages (from spacy) (1.21.6)\n",
      "Requirement already satisfied: jinja2 in /usr/local/lib/python3.7/dist-packages (from spacy) (2.11.3)\n",
      "Requirement already satisfied: spacy-loggers<2.0.0,>=1.0.0 in /usr/local/lib/python3.7/dist-packages (from spacy) (1.0.3)\n",
      "Requirement already satisfied: cymem<2.1.0,>=2.0.2 in /usr/local/lib/python3.7/dist-packages (from spacy) (2.0.7)\n",
      "Requirement already satisfied: murmurhash<1.1.0,>=0.28.0 in /usr/local/lib/python3.7/dist-packages (from spacy) (1.0.9)\n",
      "Requirement already satisfied: setuptools in /usr/local/lib/python3.7/dist-packages (from spacy) (57.4.0)\n",
      "Requirement already satisfied: zipp>=0.5 in /usr/local/lib/python3.7/dist-packages (from catalogue<2.1.0,>=2.0.6->spacy) (3.10.0)\n",
      "Requirement already satisfied: pyparsing!=3.0.5,>=2.0.2 in /usr/local/lib/python3.7/dist-packages (from packaging>=20.0->spacy) (3.0.9)\n",
      "Requirement already satisfied: smart-open<6.0.0,>=5.2.1 in /usr/local/lib/python3.7/dist-packages (from pathy>=0.3.5->spacy) (5.2.1)\n",
      "Requirement already satisfied: certifi>=2017.4.17 in /usr/local/lib/python3.7/dist-packages (from requests<3.0.0,>=2.13.0->spacy) (2022.9.24)\n",
      "Requirement already satisfied: urllib3!=1.25.0,!=1.25.1,<1.26,>=1.21.1 in /usr/local/lib/python3.7/dist-packages (from requests<3.0.0,>=2.13.0->spacy) (1.25.11)\n",
      "Requirement already satisfied: chardet<4,>=3.0.2 in /usr/local/lib/python3.7/dist-packages (from requests<3.0.0,>=2.13.0->spacy) (3.0.4)\n",
      "Requirement already satisfied: idna<3,>=2.5 in /usr/local/lib/python3.7/dist-packages (from requests<3.0.0,>=2.13.0->spacy) (2.10)\n",
      "Requirement already satisfied: blis<0.8.0,>=0.7.8 in /usr/local/lib/python3.7/dist-packages (from thinc<8.2.0,>=8.1.0->spacy) (0.7.9)\n",
      "Requirement already satisfied: confection<1.0.0,>=0.0.1 in /usr/local/lib/python3.7/dist-packages (from thinc<8.2.0,>=8.1.0->spacy) (0.0.3)\n",
      "Requirement already satisfied: click<7.2.0,>=7.1.1 in /usr/local/lib/python3.7/dist-packages (from typer<0.5.0,>=0.3.0->spacy) (7.1.2)\n",
      "Requirement already satisfied: MarkupSafe>=0.23 in /usr/local/lib/python3.7/dist-packages (from jinja2->spacy) (2.0.1)\n",
      "Installing collected packages: thinc, spacy\n",
      "  Attempting uninstall: thinc\n",
      "    Found existing installation: thinc 8.0.17\n",
      "    Uninstalling thinc-8.0.17:\n",
      "      Successfully uninstalled thinc-8.0.17\n",
      "  Attempting uninstall: spacy\n",
      "    Found existing installation: spacy 3.0.8\n",
      "    Uninstalling spacy-3.0.8:\n",
      "      Successfully uninstalled spacy-3.0.8\n",
      "\u001b[31mERROR: pip's dependency resolver does not currently take into account all the packages that are installed. This behaviour is the source of the following dependency conflicts.\n",
      "allennlp 2.1.0 requires spacy<3.1,>=2.1.0, but you have spacy 3.4.2 which is incompatible.\u001b[0m\n",
      "Successfully installed spacy-3.4.2 thinc-8.1.5\n"
     ]
    }
   ],
   "source": [
    "!pip install -U spacy"
   ]
  },
  {
   "cell_type": "code",
   "execution_count": 4,
   "metadata": {
    "colab": {
     "base_uri": "https://localhost:8080/"
    },
    "id": "4e8WrFdCLmSi",
    "outputId": "38598bc9-d8da-4c94-b104-0a70d3b62e19"
   },
   "outputs": [
    {
     "name": "stdout",
     "output_type": "stream",
     "text": [
      "Looking in indexes: https://pypi.org/simple, https://us-python.pkg.dev/colab-wheels/public/simple/\n",
      "Collecting gensim==4.2.0\n",
      "  Downloading gensim-4.2.0-cp37-cp37m-manylinux_2_12_x86_64.manylinux2010_x86_64.whl (24.1 MB)\n",
      "\u001b[K     |████████████████████████████████| 24.1 MB 1.3 MB/s \n",
      "\u001b[?25hRequirement already satisfied: smart-open>=1.8.1 in /usr/local/lib/python3.7/dist-packages (from gensim==4.2.0) (5.2.1)\n",
      "Requirement already satisfied: scipy>=0.18.1 in /usr/local/lib/python3.7/dist-packages (from gensim==4.2.0) (1.7.3)\n",
      "Requirement already satisfied: numpy>=1.17.0 in /usr/local/lib/python3.7/dist-packages (from gensim==4.2.0) (1.21.6)\n",
      "Installing collected packages: gensim\n",
      "  Attempting uninstall: gensim\n",
      "    Found existing installation: gensim 3.6.0\n",
      "    Uninstalling gensim-3.6.0:\n",
      "      Successfully uninstalled gensim-3.6.0\n",
      "Successfully installed gensim-4.2.0\n"
     ]
    }
   ],
   "source": [
    "!pip install gensim==4.2.0"
   ]
  },
  {
   "cell_type": "markdown",
   "metadata": {
    "id": "xFTCXkYgizM6"
   },
   "source": [
    "## Code Starts Here"
   ]
  },
  {
   "cell_type": "markdown",
   "metadata": {
    "id": "foAHHabWodPa"
   },
   "source": [
    "### Mounting the drive"
   ]
  },
  {
   "cell_type": "code",
   "execution_count": 5,
   "metadata": {
    "colab": {
     "base_uri": "https://localhost:8080/"
    },
    "id": "_CXDZTWOjx2L",
    "outputId": "b9d28ffe-1a24-4f1e-d718-d703b0518af5"
   },
   "outputs": [
    {
     "name": "stdout",
     "output_type": "stream",
     "text": [
      "Drive already mounted at /content/drive; to attempt to forcibly remount, call drive.mount(\"/content/drive\", force_remount=True).\n"
     ]
    }
   ],
   "source": [
    "from google.colab import drive\n",
    "drive.mount('/content/drive')"
   ]
  },
  {
   "cell_type": "markdown",
   "metadata": {
    "id": "oom0Xk2ji7rX"
   },
   "source": [
    "### Importing Libraries"
   ]
  },
  {
   "cell_type": "code",
   "execution_count": 6,
   "metadata": {
    "id": "iLF78tvkz_tz"
   },
   "outputs": [],
   "source": [
    "from allennlp.predictors.predictor import Predictor\n",
    "import allennlp_models.tagging\n",
    "import gensim"
   ]
  },
  {
   "cell_type": "markdown",
   "metadata": {
    "id": "MzPzJ_LjjDRS"
   },
   "source": [
    "### Loading Allen NLP coreference model"
   ]
  },
  {
   "cell_type": "code",
   "execution_count": 7,
   "metadata": {
    "id": "Tc5mOITOz_v-"
   },
   "outputs": [],
   "source": [
    "# predictor = Predictor.from_path(\"https://storage.googleapis.com/allennlp-public-models/coref-spanbert-large-2020.02.27.tar.gz\")\n"
   ]
  },
  {
   "cell_type": "code",
   "execution_count": 8,
   "metadata": {
    "id": "0iY5cz4Hz_yd"
   },
   "outputs": [],
   "source": [
    "# text = \"Barack Obama nominated Hillary Rodham Clinton as his secretary of state on Monday. He chose her because she had foreign affairs experience as a former First Lady.\""
   ]
  },
  {
   "cell_type": "code",
   "execution_count": 9,
   "metadata": {
    "id": "wuJwC9Zuz_0c"
   },
   "outputs": [],
   "source": [
    "# pred = predictor.predict(    \n",
    "#          document= text\n",
    "# )"
   ]
  },
  {
   "cell_type": "code",
   "execution_count": 10,
   "metadata": {
    "id": "u9mtbTCOz_21"
   },
   "outputs": [],
   "source": [
    "# clusters = pred['clusters']\n",
    "# tokens = pred['document'] "
   ]
  },
  {
   "cell_type": "code",
   "execution_count": 11,
   "metadata": {
    "id": "zjDaxfxY8W7U"
   },
   "outputs": [],
   "source": [
    "# tokens"
   ]
  },
  {
   "cell_type": "code",
   "execution_count": 12,
   "metadata": {
    "id": "ToadPsYf8aCR"
   },
   "outputs": [],
   "source": [
    "# clusters"
   ]
  },
  {
   "cell_type": "code",
   "execution_count": 13,
   "metadata": {
    "id": "EsDpyumf0QTo"
   },
   "outputs": [],
   "source": [
    "# i = 0\n",
    "# doc = {}\n",
    "# for word in tokens:   \n",
    "#     doc.update({i :  word})   \n",
    "#     i = i+1"
   ]
  },
  {
   "cell_type": "code",
   "execution_count": 14,
   "metadata": {
    "id": "_mob5Jp90QZR"
   },
   "outputs": [],
   "source": [
    "# clus_all = []\n",
    "# cluster = []\n",
    "# temp = \"\"\n",
    "# for i in range(0, len(clusters)):    \n",
    "#   one_cl = clusters[i]    \n",
    "#   for count in range(0, len(one_cl)):           \n",
    "#     obj = one_cl[count] \n",
    "#     for s in range((obj[0]), (obj[1]+1)):            \n",
    "#       temp = temp + \" \" + doc[s]\n",
    "#     cluster.append(temp[1:])\n",
    "#     temp=\"\"\n",
    "\n",
    "#   clus_all.append(cluster)       \n",
    "#   cluster = []     \n",
    "# print (clus_all) #And finally, this shows all coreferences"
   ]
  },
  {
   "cell_type": "code",
   "execution_count": 15,
   "metadata": {
    "id": "uWKIHLwmz_5G"
   },
   "outputs": [],
   "source": [
    "# cr_text = predictor.coref_resolved(text)"
   ]
  },
  {
   "cell_type": "code",
   "execution_count": 16,
   "metadata": {
    "id": "myr79D_Ud-Gz"
   },
   "outputs": [],
   "source": [
    "# print(cr_text)"
   ]
  },
  {
   "cell_type": "markdown",
   "metadata": {
    "id": "2b9ESzHVjO3i"
   },
   "source": [
    "### Loading Allen NLP NER model"
   ]
  },
  {
   "cell_type": "code",
   "execution_count": 17,
   "metadata": {
    "colab": {
     "base_uri": "https://localhost:8080/"
    },
    "id": "FQgZyRrYAOAz",
    "outputId": "1cb3040b-e846-458e-8272-51dffede96f8"
   },
   "outputs": [
    {
     "name": "stderr",
     "output_type": "stream",
     "text": [
      "[nltk_data] Downloading package punkt to /root/nltk_data...\n",
      "[nltk_data]   Unzipping tokenizers/punkt.zip.\n",
      "[nltk_data] Downloading package wordnet to /root/nltk_data...\n",
      "downloading: 100%|##########| 365340283/365340283 [00:08<00:00, 40912061.44B/s]\n",
      "downloading: 100%|##########| 336/336 [00:00<00:00, 815559.11B/s]\n",
      "downloading: 100%|##########| 374434792/374434792 [00:08<00:00, 44393595.08B/s]\n",
      "/usr/local/lib/python3.7/dist-packages/torch/nn/modules/container.py:435: UserWarning: Setting attributes on ParameterList is not supported.\n",
      "  warnings.warn(\"Setting attributes on ParameterList is not supported.\")\n",
      "/usr/local/lib/python3.7/dist-packages/spacy/language.py:1899: UserWarning: [W123] Argument disable with value ['vectors', 'textcat', 'parser', 'ner'] is used instead of ['senter'] as specified in the config. Be aware that this might affect other components in your pipeline.\n",
      "  config_value=config[\"nlp\"][key],\n"
     ]
    }
   ],
   "source": [
    "predictor_ner = Predictor.from_path(\"https://storage.googleapis.com/allennlp-public-models/ner-elmo.2021-02-12.tar.gz\")"
   ]
  },
  {
   "cell_type": "code",
   "execution_count": 18,
   "metadata": {
    "colab": {
     "base_uri": "https://localhost:8080/"
    },
    "id": "L8isCOeML7Kf",
    "outputId": "a909c767-5b37-4114-abbb-0b0fa87b8716"
   },
   "outputs": [
    {
     "data": {
      "text/plain": [
       "<allennlp.predictors.sentence_tagger.SentenceTaggerPredictor at 0x7f5753735610>"
      ]
     },
     "execution_count": 18,
     "metadata": {},
     "output_type": "execute_result"
    }
   ],
   "source": [
    "predictor_ner"
   ]
  },
  {
   "cell_type": "code",
   "execution_count": 19,
   "metadata": {
    "id": "bl29xoWTZy7j"
   },
   "outputs": [],
   "source": [
    "# text_file = open(\"/content/drive/MyDrive/Reading elective/data.txt\", \"r\")"
   ]
  },
  {
   "cell_type": "code",
   "execution_count": 20,
   "metadata": {
    "id": "6rABWPD4Z6Jp"
   },
   "outputs": [],
   "source": [
    "# data = text_file.read()\n",
    "data = \"Albert Einstein was born in Germany and lived in England.\"\n",
    "# data = 'Who did Beyonce star with in the movie, \"Austin Powers in Goldmember\"?'"
   ]
  },
  {
   "cell_type": "code",
   "execution_count": 21,
   "metadata": {
    "id": "rrm4xon_Z8yV"
   },
   "outputs": [],
   "source": [
    "# text_file.close()"
   ]
  },
  {
   "cell_type": "code",
   "execution_count": 22,
   "metadata": {
    "id": "vqXqRFo0AODV"
   },
   "outputs": [],
   "source": [
    "results = predictor_ner.predict(\n",
    "    sentence=data\n",
    ")"
   ]
  },
  {
   "cell_type": "code",
   "execution_count": 23,
   "metadata": {
    "id": "JsPKVE2CAcdc"
   },
   "outputs": [],
   "source": [
    "# for word, tag in zip(results['words'], results['tags']):\n",
    "#   print(word + \": \" + tag)"
   ]
  },
  {
   "cell_type": "code",
   "execution_count": 24,
   "metadata": {
    "id": "P9qW3vOHCruq"
   },
   "outputs": [],
   "source": [
    "# results"
   ]
  },
  {
   "cell_type": "code",
   "execution_count": 25,
   "metadata": {
    "id": "5vk-WsqenE4f"
   },
   "outputs": [],
   "source": [
    "lst = []\n",
    "\n",
    "for word, tag in zip(results['words'], results['tags']):\n",
    "  tpl = (word, tag)\n",
    "  lst.append(tpl) "
   ]
  },
  {
   "cell_type": "code",
   "execution_count": 26,
   "metadata": {
    "id": "W8BLJNUAHtGC"
   },
   "outputs": [],
   "source": [
    "final_lst = []\n",
    "i = 0\n",
    "n = len(lst)\n",
    "s = \"\"\n",
    "prev_tag = \"\"\n",
    "while i < n:\n",
    "  ps = lst[i][0]\n",
    "  pt = lst[i][1]\n",
    "\n",
    "  if pt[0] == 'B':\n",
    "    if s != \"\":\n",
    "      tpl = (s, prev_tag)\n",
    "      final_lst.append(tpl)\n",
    "    s = ps\n",
    "    prev_tag = pt[2:]\n",
    "\n",
    "  elif pt[0] == 'I': \n",
    "    s = s + \" \" + ps\n",
    "    prev_tag = pt[2:]\n",
    "\n",
    "  elif pt[0] == 'L':\n",
    "    s = s + \" \" + ps\n",
    "    tpl = (s, pt[2:])\n",
    "    final_lst.append(tpl)\n",
    "    s=\"\"\n",
    "\n",
    "  elif pt[0] == 'U':\n",
    "    if s!=\"\":\n",
    "      tpl = (s, prev_tag)\n",
    "      final_lst.append(tpl)\n",
    "    tpl1 = (ps, pt[2:])\n",
    "    final_lst.append(tpl1)\n",
    "    s=\"\"\n",
    "    prev_tag=\"\"\n",
    "\n",
    "  elif pt == \"O\":\n",
    "    if(prev_tag == \"O\"):\n",
    "      if ps == '.' or ps == ',':\n",
    "        s = s+ps\n",
    "      else:\n",
    "        s = s + \" \" + ps\n",
    "    else:\n",
    "      if s!=\"\":\n",
    "        tpl = (s, prev_tag)\n",
    "        final_lst.append(tpl)\n",
    "      s = ps\n",
    "    prev_tag = pt\n",
    "\n",
    "  i+=1\n",
    "\n",
    "if s!=\"\":\n",
    "  tpl = (s, prev_tag)\n",
    "  final_lst.append(tpl)\n",
    "      \n"
   ]
  },
  {
   "cell_type": "code",
   "execution_count": 27,
   "metadata": {
    "colab": {
     "base_uri": "https://localhost:8080/"
    },
    "id": "_HkYtVPDl_gT",
    "outputId": "3bc65dad-7357-48dc-9b14-d136906f96a7"
   },
   "outputs": [
    {
     "name": "stdout",
     "output_type": "stream",
     "text": [
      "[('Albert Einstein', 'PER'), ('was born in', 'O'), ('Germany', 'LOC'), ('and lived in', 'O'), ('England', 'LOC'), ('.', 'O')]\n"
     ]
    }
   ],
   "source": [
    "print(final_lst)"
   ]
  },
  {
   "cell_type": "code",
   "execution_count": 28,
   "metadata": {
    "colab": {
     "base_uri": "https://localhost:8080/"
    },
    "id": "i6RxAEh0nf2F",
    "outputId": "19cd5770-5936-456f-e036-4233b82a700b"
   },
   "outputs": [
    {
     "name": "stdout",
     "output_type": "stream",
     "text": [
      "[('Albert', 'B-PER'), ('Einstein', 'L-PER'), ('was', 'O'), ('born', 'O'), ('in', 'O'), ('Germany', 'U-LOC'), ('and', 'O'), ('lived', 'O'), ('in', 'O'), ('England', 'U-LOC'), ('.', 'O')]\n"
     ]
    }
   ],
   "source": [
    "print(lst)"
   ]
  },
  {
   "cell_type": "code",
   "execution_count": 29,
   "metadata": {
    "id": "h678BCI6drbI"
   },
   "outputs": [],
   "source": [
    "para = \"\"\n",
    "\n",
    "for item in final_lst:\n",
    "  if para == \"\":\n",
    "    para = item[0]\n",
    "  else:\n",
    "    para = para + \" \" + item[0]"
   ]
  },
  {
   "cell_type": "code",
   "execution_count": 30,
   "metadata": {
    "colab": {
     "base_uri": "https://localhost:8080/",
     "height": 35
    },
    "id": "zU1Yw2QkeHIz",
    "outputId": "be3fa1fd-cd3f-47ac-dd67-d417764998a0"
   },
   "outputs": [
    {
     "data": {
      "application/vnd.google.colaboratory.intrinsic+json": {
       "type": "string"
      },
      "text/plain": [
       "'Albert Einstein was born in Germany and lived in England .'"
      ]
     },
     "execution_count": 30,
     "metadata": {},
     "output_type": "execute_result"
    }
   ],
   "source": [
    "para"
   ]
  },
  {
   "cell_type": "code",
   "execution_count": 31,
   "metadata": {
    "id": "ar_a7TOoRiAb"
   },
   "outputs": [],
   "source": [
    "# f = open('/content/drive/MyDrive/Reading elective/clusters.txt', 'w')\n",
    "# for item in lst:\n",
    "#   line = \"{} : {}\\n\".format(item[0], item[1])\n",
    "#   f.write(line)\n",
    "\n",
    "# f.close()"
   ]
  },
  {
   "cell_type": "code",
   "execution_count": 32,
   "metadata": {
    "id": "I8ARy4xSRiI_"
   },
   "outputs": [],
   "source": [
    "# f = open('/content/drive/MyDrive/Reading elective/ner_tags.txt', 'w')\n",
    "# for item in final_lst:\n",
    "#   line = \"{} : {}\\n\".format(item[0], item[1])\n",
    "#   f.write(line)\n",
    "\n",
    "# f.close()"
   ]
  },
  {
   "cell_type": "markdown",
   "metadata": {
    "id": "kYc8jXKjzvtl"
   },
   "source": [
    "# Post-Midterm"
   ]
  },
  {
   "cell_type": "code",
   "execution_count": 33,
   "metadata": {
    "id": "bSU-svO1x0t-"
   },
   "outputs": [],
   "source": [
    "final_str = \"\"\n",
    "final_words = []\n",
    "tag_of_intrest = \"LOC\"\n",
    "idxs_of_tags = []"
   ]
  },
  {
   "cell_type": "code",
   "execution_count": 34,
   "metadata": {
    "id": "vc7LMM24wIhH"
   },
   "outputs": [],
   "source": [
    "i = 0\n",
    "for tpl in final_lst:\n",
    "  word = \"\"\n",
    "  if tpl[1] != 'O':\n",
    "    word = tpl[0].replace(' ', '_')\n",
    "    final_str = final_str + \" \" + word\n",
    "  else:\n",
    "    word = tpl[0]\n",
    "    final_str = final_str + \" \" + word\n",
    "  if tpl[1] == tag_of_intrest:\n",
    "    idxs_of_tags.append(i)\n",
    "\n",
    "  final_words.append(word)\n",
    "  i+=1\n",
    "\n",
    "final_str = final_str[1:]"
   ]
  },
  {
   "cell_type": "code",
   "execution_count": 35,
   "metadata": {
    "colab": {
     "base_uri": "https://localhost:8080/"
    },
    "id": "L_QAdCaczfwS",
    "outputId": "af344b4c-6b0c-47f4-c244-4a51e94176d8"
   },
   "outputs": [
    {
     "name": "stdout",
     "output_type": "stream",
     "text": [
      "Albert_Einstein was born in Germany and lived in England .\n",
      "['Albert_Einstein', 'was born in', 'Germany', 'and lived in', 'England', '.']\n",
      "[2, 4]\n"
     ]
    }
   ],
   "source": [
    "print(final_str)\n",
    "print(final_words)\n",
    "print(idxs_of_tags)"
   ]
  },
  {
   "cell_type": "code",
   "execution_count": 36,
   "metadata": {
    "id": "qrckr8gK-tZB"
   },
   "outputs": [],
   "source": [
    "model = gensim.models.Word2Vec.load(\"/content/drive/MyDrive/Reading elective/w2vpandas.model\")"
   ]
  },
  {
   "cell_type": "code",
   "execution_count": 37,
   "metadata": {
    "colab": {
     "base_uri": "https://localhost:8080/"
    },
    "id": "Q-5F1UFo-tPf",
    "outputId": "4022ac79-ec24-4e65-a69b-0c390beb82f0"
   },
   "outputs": [
    {
     "name": "stdout",
     "output_type": "stream",
     "text": [
      "4.2.0\n"
     ]
    }
   ],
   "source": [
    "print(gensim.__version__)"
   ]
  },
  {
   "cell_type": "code",
   "execution_count": 38,
   "metadata": {
    "colab": {
     "base_uri": "https://localhost:8080/"
    },
    "id": "Il-vtBbd-tEd",
    "outputId": "c781cc47-a9bd-41a4-eb66-aa7ab0d0d974"
   },
   "outputs": [
    {
     "data": {
      "text/plain": [
       "list"
      ]
     },
     "execution_count": 38,
     "metadata": {},
     "output_type": "execute_result"
    }
   ],
   "source": [
    "type(model.wv.most_similar('Albert_Einstein', topn=20))"
   ]
  },
  {
   "cell_type": "code",
   "execution_count": 39,
   "metadata": {
    "id": "--_jf2To-B1x"
   },
   "outputs": [],
   "source": [
    "# model.wv.most_similar('Albert_Einstein', topn=10)"
   ]
  },
  {
   "cell_type": "code",
   "execution_count": 40,
   "metadata": {
    "colab": {
     "base_uri": "https://localhost:8080/"
    },
    "id": "-ivzW-cRASrX",
    "outputId": "2122872c-670c-429b-ae6e-3ddd0b7ee70e"
   },
   "outputs": [
    {
     "data": {
      "text/plain": [
       "[('Hammerschmidt_Villa', 0.8660129904747009),\n",
       " ('Deutsche_Flugsicherung', 0.8595930337905884),\n",
       " ('Deutsche_Digitale_Bibliothek', 0.8462004065513611),\n",
       " ('Mysore_Cements_Limited', 0.8407950401306152),\n",
       " ('Douglas_House,_Petersham', 0.8354541659355164),\n",
       " ('Deutsche_Bahn', 0.8264826536178589),\n",
       " ('Fritzlar_Air_Base', 0.8118537068367004),\n",
       " ('Olympiastadion_(Munich)', 0.8027017116546631),\n",
       " ('Deutsche_Telekom', 0.7940279245376587),\n",
       " ('Virato_Social_News', 0.785971462726593)]"
      ]
     },
     "execution_count": 40,
     "metadata": {},
     "output_type": "execute_result"
    }
   ],
   "source": [
    "model.wv.most_similar('Germany', topn=10)"
   ]
  },
  {
   "cell_type": "code",
   "execution_count": 41,
   "metadata": {
    "colab": {
     "base_uri": "https://localhost:8080/"
    },
    "id": "t-rxA9kBASvc",
    "outputId": "e928c202-4307-446c-f3af-8162a5218d43"
   },
   "outputs": [
    {
     "data": {
      "text/plain": [
       "[('Lyon', 0.9618983864784241),\n",
       " ('NASDAQ', 0.9613578915596008),\n",
       " ('Knight_Vinke_Asset_Management', 0.9602389931678772),\n",
       " ('Jack_Ma', 0.9598575234413147),\n",
       " ('Vnesheconombank', 0.9583228230476379),\n",
       " ('Staten_Island_Railway', 0.9581822156906128),\n",
       " ('fr/Catherine_Quiminal', 0.9580122232437134),\n",
       " ('Ping_An_Insurance', 0.9578395485877991),\n",
       " ('TV_2_Zebra', 0.9577730298042297),\n",
       " ('Editis', 0.9574812650680542)]"
      ]
     },
     "execution_count": 41,
     "metadata": {},
     "output_type": "execute_result"
    }
   ],
   "source": [
    "model.wv.most_similar('England', topn=10)"
   ]
  },
  {
   "cell_type": "code",
   "execution_count": 42,
   "metadata": {
    "id": "pu_WCFT_Q5es"
   },
   "outputs": [],
   "source": [
    "# look_up = {'Editis':'Lyon', 'Fritzlar_Air_Base':'Hammerschmidt_Villa'}\n",
    "\n",
    "look_up = {}\n",
    "\n",
    "top_n = 20"
   ]
  },
  {
   "cell_type": "code",
   "execution_count": 43,
   "metadata": {
    "colab": {
     "base_uri": "https://localhost:8080/"
    },
    "id": "F_lnz500Q5ra",
    "outputId": "9a0059d1-dcba-4616-c294-7aade8514d5f"
   },
   "outputs": [
    {
     "name": "stdout",
     "output_type": "stream",
     "text": [
      "2\n",
      "a\n",
      "<class 'list'>\n",
      "4\n",
      "a\n",
      "<class 'list'>\n"
     ]
    }
   ],
   "source": [
    "\n",
    "for i in idxs_of_tags:\n",
    "  lst = []\n",
    "  print(i)\n",
    "  w = final_words[i]\n",
    "  keys = list(look_up.keys())\n",
    "  values = list(look_up.values())\n",
    "  if w in keys:\n",
    "    print('b')\n",
    "    final_words[i] = look_up[w]\n",
    "  else:\n",
    "    print('a')\n",
    "    print(type(model.wv.most_similar(w, topn=top_n)))\n",
    "    lst = model.wv.most_similar(w, topn=top_n)\n",
    "    j=0\n",
    "    while j<top_n:\n",
    "      if lst[i][0] in values:\n",
    "        j+=1\n",
    "        continue\n",
    "      else:\n",
    "        break\n",
    "\n",
    "    if j<top_n:\n",
    "      final_words[i] = lst[j][0]\n",
    "      look_up[w] = lst[j][0]"
   ]
  },
  {
   "cell_type": "code",
   "execution_count": 44,
   "metadata": {
    "colab": {
     "base_uri": "https://localhost:8080/"
    },
    "id": "pwvWvIhcDTaf",
    "outputId": "517b95e3-9c5c-438c-e2e2-bf5f0eb023bf"
   },
   "outputs": [
    {
     "data": {
      "text/plain": [
       "{'Germany': 'Hammerschmidt_Villa', 'England': 'Lyon'}"
      ]
     },
     "execution_count": 44,
     "metadata": {},
     "output_type": "execute_result"
    }
   ],
   "source": [
    "look_up"
   ]
  },
  {
   "cell_type": "code",
   "execution_count": 45,
   "metadata": {
    "colab": {
     "base_uri": "https://localhost:8080/"
    },
    "id": "7D_rg-7eQ5xX",
    "outputId": "f4c698f7-02cf-496c-d96e-916b56791352"
   },
   "outputs": [
    {
     "name": "stdout",
     "output_type": "stream",
     "text": [
      "['Albert_Einstein', 'was born in', 'Hammerschmidt_Villa', 'and lived in', 'Lyon', '.']\n"
     ]
    }
   ],
   "source": [
    "print(final_words)"
   ]
  },
  {
   "cell_type": "code",
   "execution_count": 46,
   "metadata": {
    "id": "ulcubrl8Q544"
   },
   "outputs": [],
   "source": [
    "anonymized_string = \"\"\n",
    "\n",
    "for w in final_words:\n",
    "  if anonymized_string == \"\":\n",
    "    anonymized_string = w\n",
    "  else:\n",
    "    anonymized_string = anonymized_string + \" \" + w"
   ]
  },
  {
   "cell_type": "code",
   "execution_count": 47,
   "metadata": {
    "colab": {
     "base_uri": "https://localhost:8080/"
    },
    "id": "BIsGyvJyErxa",
    "outputId": "fbe67cdc-888d-4bd4-96c7-6fd992e15619"
   },
   "outputs": [
    {
     "name": "stdout",
     "output_type": "stream",
     "text": [
      "Albert_Einstein was born in Hammerschmidt_Villa and lived in Lyon .\n"
     ]
    }
   ],
   "source": [
    "print(anonymized_string)"
   ]
  },
  {
   "cell_type": "code",
   "execution_count": 48,
   "metadata": {
    "id": "v66M3F04jTTQ"
   },
   "outputs": [],
   "source": [
    "output = anonymized_string.replace('_', ' ')"
   ]
  },
  {
   "cell_type": "code",
   "execution_count": 49,
   "metadata": {
    "colab": {
     "base_uri": "https://localhost:8080/",
     "height": 35
    },
    "id": "eOK6NMZjlLQb",
    "outputId": "0e1a3543-268a-4f9e-9aca-bed9e3d8f7b3"
   },
   "outputs": [
    {
     "data": {
      "application/vnd.google.colaboratory.intrinsic+json": {
       "type": "string"
      },
      "text/plain": [
       "'Albert Einstein was born in Hammerschmidt Villa and lived in Lyon .'"
      ]
     },
     "execution_count": 49,
     "metadata": {},
     "output_type": "execute_result"
    }
   ],
   "source": [
    "output"
   ]
  },
  {
   "cell_type": "code",
   "execution_count": 49,
   "metadata": {
    "id": "9SE0xwsJ856w"
   },
   "outputs": [],
   "source": []
  }
 ],
 "metadata": {
  "colab": {
   "collapsed_sections": [
    "8c6IQRIHoPCZ",
    "foAHHabWodPa",
    "oom0Xk2ji7rX",
    "MzPzJ_LjjDRS"
   ],
   "provenance": []
  },
  "kernelspec": {
   "display_name": "Python 3 (ipykernel)",
   "language": "python",
   "name": "python3"
  },
  "language_info": {
   "codemirror_mode": {
    "name": "ipython",
    "version": 3
   },
   "file_extension": ".py",
   "mimetype": "text/x-python",
   "name": "python",
   "nbconvert_exporter": "python",
   "pygments_lexer": "ipython3",
   "version": "3.9.6"
  }
 },
 "nbformat": 4,
 "nbformat_minor": 1
}
