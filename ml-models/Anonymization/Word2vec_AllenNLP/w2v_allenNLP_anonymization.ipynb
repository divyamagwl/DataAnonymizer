{
 "cells": [
  {
   "cell_type": "markdown",
   "metadata": {
    "id": "xFTCXkYgizM6"
   },
   "source": [
    "## Allen NLP NER + Anonymization"
   ]
  },
  {
   "cell_type": "markdown",
   "metadata": {
    "id": "oom0Xk2ji7rX"
   },
   "source": [
    "### Importing Libraries"
   ]
  },
  {
   "cell_type": "code",
   "execution_count": 1,
   "metadata": {
    "id": "iLF78tvkz_tz"
   },
   "outputs": [],
   "source": [
    "from allennlp.predictors.predictor import Predictor\n",
    "import allennlp_models.tagging\n",
    "import gensim"
   ]
  },
  {
   "cell_type": "code",
   "execution_count": 2,
   "metadata": {},
   "outputs": [],
   "source": [
    "import joblib"
   ]
  },
  {
   "cell_type": "markdown",
   "metadata": {
    "id": "2b9ESzHVjO3i"
   },
   "source": [
    "### Loading Allen NLP NER model"
   ]
  },
  {
   "cell_type": "code",
   "execution_count": 3,
   "metadata": {
    "colab": {
     "base_uri": "https://localhost:8080/"
    },
    "id": "FQgZyRrYAOAz",
    "outputId": "1cb3040b-e846-458e-8272-51dffede96f8"
   },
   "outputs": [
    {
     "name": "stderr",
     "output_type": "stream",
     "text": [
      "/Users/divyam/Semester 7/Project Elective - Prof Vinu/Web app/venv/lib/python3.9/site-packages/spacy/language.py:1895: UserWarning: [W123] Argument disable with value ['vectors', 'textcat', 'parser', 'ner'] is used instead of ['senter'] as specified in the config. Be aware that this might affect other components in your pipeline.\n",
      "  warnings.warn(\n"
     ]
    }
   ],
   "source": [
    "predictor_ner = Predictor.from_path(\"https://storage.googleapis.com/allennlp-public-models/ner-elmo.2021-02-12.tar.gz\")"
   ]
  },
  {
   "cell_type": "code",
   "execution_count": 4,
   "metadata": {
    "colab": {
     "base_uri": "https://localhost:8080/"
    },
    "id": "L8isCOeML7Kf",
    "outputId": "a909c767-5b37-4114-abbb-0b0fa87b8716"
   },
   "outputs": [
    {
     "data": {
      "text/plain": [
       "<allennlp.predictors.sentence_tagger.SentenceTaggerPredictor at 0x1650a1ac0>"
      ]
     },
     "execution_count": 4,
     "metadata": {},
     "output_type": "execute_result"
    }
   ],
   "source": [
    "predictor_ner"
   ]
  },
  {
   "cell_type": "code",
   "execution_count": 5,
   "metadata": {
    "id": "6rABWPD4Z6Jp"
   },
   "outputs": [],
   "source": [
    "data = \"Albert Einstein was born in Germany and lived in England.\""
   ]
  },
  {
   "cell_type": "code",
   "execution_count": 6,
   "metadata": {
    "id": "vqXqRFo0AODV"
   },
   "outputs": [],
   "source": [
    "results = predictor_ner.predict(sentence=data)"
   ]
  },
  {
   "cell_type": "code",
   "execution_count": 7,
   "metadata": {
    "id": "5vk-WsqenE4f"
   },
   "outputs": [],
   "source": [
    "lst = []\n",
    "\n",
    "for word, tag in zip(results['words'], results['tags']):\n",
    "  tpl = (word, tag)\n",
    "  lst.append(tpl) "
   ]
  },
  {
   "cell_type": "code",
   "execution_count": 8,
   "metadata": {
    "id": "W8BLJNUAHtGC"
   },
   "outputs": [],
   "source": [
    "final_lst = []\n",
    "i = 0\n",
    "n = len(lst)\n",
    "s = \"\"\n",
    "prev_tag = \"\"\n",
    "while i < n:\n",
    "  ps = lst[i][0]\n",
    "  pt = lst[i][1]\n",
    "\n",
    "  if pt[0] == 'B':\n",
    "    if s != \"\":\n",
    "      tpl = (s, prev_tag)\n",
    "      final_lst.append(tpl)\n",
    "    s = ps\n",
    "    prev_tag = pt[2:]\n",
    "\n",
    "  elif pt[0] == 'I': \n",
    "    s = s + \" \" + ps\n",
    "    prev_tag = pt[2:]\n",
    "\n",
    "  elif pt[0] == 'L':\n",
    "    s = s + \" \" + ps\n",
    "    tpl = (s, pt[2:])\n",
    "    final_lst.append(tpl)\n",
    "    s=\"\"\n",
    "\n",
    "  elif pt[0] == 'U':\n",
    "    if s!=\"\":\n",
    "      tpl = (s, prev_tag)\n",
    "      final_lst.append(tpl)\n",
    "    tpl1 = (ps, pt[2:])\n",
    "    final_lst.append(tpl1)\n",
    "    s=\"\"\n",
    "    prev_tag=\"\"\n",
    "\n",
    "  elif pt == \"O\":\n",
    "    if(prev_tag == \"O\"):\n",
    "      if ps == '.' or ps == ',':\n",
    "        s = s+ps\n",
    "      else:\n",
    "        s = s + \" \" + ps\n",
    "    else:\n",
    "      if s!=\"\":\n",
    "        tpl = (s, prev_tag)\n",
    "        final_lst.append(tpl)\n",
    "      s = ps\n",
    "    prev_tag = pt\n",
    "\n",
    "  i+=1\n",
    "\n",
    "if s!=\"\":\n",
    "  tpl = (s, prev_tag)\n",
    "  final_lst.append(tpl)\n",
    "      \n"
   ]
  },
  {
   "cell_type": "code",
   "execution_count": 9,
   "metadata": {
    "colab": {
     "base_uri": "https://localhost:8080/"
    },
    "id": "_HkYtVPDl_gT",
    "outputId": "3bc65dad-7357-48dc-9b14-d136906f96a7"
   },
   "outputs": [
    {
     "name": "stdout",
     "output_type": "stream",
     "text": [
      "[('Albert Einstein', 'PER'), ('was born in', 'O'), ('Germany', 'LOC'), ('and lived in', 'O'), ('England', 'LOC'), ('.', 'O')]\n"
     ]
    }
   ],
   "source": [
    "print(final_lst)"
   ]
  },
  {
   "cell_type": "code",
   "execution_count": 10,
   "metadata": {
    "colab": {
     "base_uri": "https://localhost:8080/"
    },
    "id": "i6RxAEh0nf2F",
    "outputId": "19cd5770-5936-456f-e036-4233b82a700b"
   },
   "outputs": [
    {
     "name": "stdout",
     "output_type": "stream",
     "text": [
      "[('Albert', 'B-PER'), ('Einstein', 'L-PER'), ('was', 'O'), ('born', 'O'), ('in', 'O'), ('Germany', 'U-LOC'), ('and', 'O'), ('lived', 'O'), ('in', 'O'), ('England', 'U-LOC'), ('.', 'O')]\n"
     ]
    }
   ],
   "source": [
    "print(lst)"
   ]
  },
  {
   "cell_type": "code",
   "execution_count": 11,
   "metadata": {
    "id": "h678BCI6drbI"
   },
   "outputs": [],
   "source": [
    "para = \"\"\n",
    "\n",
    "for item in final_lst:\n",
    "  if para == \"\":\n",
    "    para = item[0]\n",
    "  else:\n",
    "    para = para + \" \" + item[0]"
   ]
  },
  {
   "cell_type": "code",
   "execution_count": 12,
   "metadata": {
    "colab": {
     "base_uri": "https://localhost:8080/",
     "height": 35
    },
    "id": "zU1Yw2QkeHIz",
    "outputId": "be3fa1fd-cd3f-47ac-dd67-d417764998a0"
   },
   "outputs": [
    {
     "data": {
      "text/plain": [
       "'Albert Einstein was born in Germany and lived in England .'"
      ]
     },
     "execution_count": 12,
     "metadata": {},
     "output_type": "execute_result"
    }
   ],
   "source": [
    "para"
   ]
  },
  {
   "cell_type": "markdown",
   "metadata": {
    "id": "kYc8jXKjzvtl"
   },
   "source": [
    "# Post-Midterm"
   ]
  },
  {
   "cell_type": "code",
   "execution_count": 13,
   "metadata": {
    "id": "bSU-svO1x0t-"
   },
   "outputs": [],
   "source": [
    "final_str = \"\"\n",
    "final_words = []\n",
    "tag_of_intrest = \"LOC\"\n",
    "idxs_of_tags = []"
   ]
  },
  {
   "cell_type": "code",
   "execution_count": 14,
   "metadata": {
    "id": "vc7LMM24wIhH"
   },
   "outputs": [],
   "source": [
    "i = 0\n",
    "for tpl in final_lst:\n",
    "  word = \"\"\n",
    "  if tpl[1] != 'O':\n",
    "    word = tpl[0].replace(' ', '_')\n",
    "    final_str = final_str + \" \" + word\n",
    "  else:\n",
    "    word = tpl[0]\n",
    "    final_str = final_str + \" \" + word\n",
    "  if tpl[1] == tag_of_intrest:\n",
    "    idxs_of_tags.append(i)\n",
    "\n",
    "  final_words.append(word)\n",
    "  i+=1\n",
    "\n",
    "final_str = final_str[1:]"
   ]
  },
  {
   "cell_type": "code",
   "execution_count": 15,
   "metadata": {
    "colab": {
     "base_uri": "https://localhost:8080/"
    },
    "id": "L_QAdCaczfwS",
    "outputId": "af344b4c-6b0c-47f4-c244-4a51e94176d8"
   },
   "outputs": [
    {
     "name": "stdout",
     "output_type": "stream",
     "text": [
      "Albert_Einstein was born in Germany and lived in England .\n",
      "['Albert_Einstein', 'was born in', 'Germany', 'and lived in', 'England', '.']\n",
      "[2, 4]\n"
     ]
    }
   ],
   "source": [
    "print(final_str)\n",
    "print(final_words)\n",
    "print(idxs_of_tags)"
   ]
  },
  {
   "cell_type": "code",
   "execution_count": 16,
   "metadata": {
    "id": "qrckr8gK-tZB"
   },
   "outputs": [],
   "source": [
    "model = gensim.models.Word2Vec.load(\"../Word2vec/w2vpandas.model\")"
   ]
  },
  {
   "cell_type": "code",
   "execution_count": 17,
   "metadata": {
    "id": "pu_WCFT_Q5es"
   },
   "outputs": [],
   "source": [
    "look_up = {}\n",
    "\n",
    "top_n = 20"
   ]
  },
  {
   "cell_type": "code",
   "execution_count": 18,
   "metadata": {
    "colab": {
     "base_uri": "https://localhost:8080/"
    },
    "id": "F_lnz500Q5ra",
    "outputId": "9a0059d1-dcba-4616-c294-7aade8514d5f"
   },
   "outputs": [
    {
     "name": "stdout",
     "output_type": "stream",
     "text": [
      "2\n",
      "4\n"
     ]
    }
   ],
   "source": [
    "for i in idxs_of_tags:\n",
    "  lst = []\n",
    "  print(i)\n",
    "  w = final_words[i]\n",
    "  keys = list(look_up.keys())\n",
    "  values = list(look_up.values())\n",
    "  if w in keys:\n",
    "    print('b')\n",
    "    final_words[i] = look_up[w]\n",
    "  else:\n",
    "    lst = model.wv.most_similar(w, topn=top_n)\n",
    "    j=0\n",
    "    while j<top_n:\n",
    "      if lst[i][0] in values:\n",
    "        j+=1\n",
    "        continue\n",
    "      else:\n",
    "        break\n",
    "\n",
    "    if j<top_n:\n",
    "      final_words[i] = lst[j][0]\n",
    "      look_up[w] = lst[j][0]"
   ]
  },
  {
   "cell_type": "code",
   "execution_count": 19,
   "metadata": {
    "colab": {
     "base_uri": "https://localhost:8080/"
    },
    "id": "pwvWvIhcDTaf",
    "outputId": "517b95e3-9c5c-438c-e2e2-bf5f0eb023bf"
   },
   "outputs": [
    {
     "data": {
      "text/plain": [
       "{'Germany': 'Hammerschmidt_Villa', 'England': 'Mobage'}"
      ]
     },
     "execution_count": 19,
     "metadata": {},
     "output_type": "execute_result"
    }
   ],
   "source": [
    "look_up"
   ]
  },
  {
   "cell_type": "code",
   "execution_count": 20,
   "metadata": {
    "colab": {
     "base_uri": "https://localhost:8080/"
    },
    "id": "7D_rg-7eQ5xX",
    "outputId": "f4c698f7-02cf-496c-d96e-916b56791352",
    "scrolled": true
   },
   "outputs": [
    {
     "name": "stdout",
     "output_type": "stream",
     "text": [
      "['Albert_Einstein', 'was born in', 'Hammerschmidt_Villa', 'and lived in', 'Mobage', '.']\n"
     ]
    }
   ],
   "source": [
    "print(final_words)"
   ]
  },
  {
   "cell_type": "code",
   "execution_count": 21,
   "metadata": {
    "id": "ulcubrl8Q544"
   },
   "outputs": [],
   "source": [
    "anonymized_string = \"\"\n",
    "\n",
    "for w in final_words:\n",
    "  if anonymized_string == \"\":\n",
    "    anonymized_string = w\n",
    "  else:\n",
    "    anonymized_string = anonymized_string + \" \" + w"
   ]
  },
  {
   "cell_type": "code",
   "execution_count": 22,
   "metadata": {
    "colab": {
     "base_uri": "https://localhost:8080/"
    },
    "id": "BIsGyvJyErxa",
    "outputId": "fbe67cdc-888d-4bd4-96c7-6fd992e15619"
   },
   "outputs": [
    {
     "name": "stdout",
     "output_type": "stream",
     "text": [
      "Albert_Einstein was born in Hammerschmidt_Villa and lived in Mobage .\n"
     ]
    }
   ],
   "source": [
    "print(anonymized_string)"
   ]
  },
  {
   "cell_type": "code",
   "execution_count": 23,
   "metadata": {
    "id": "v66M3F04jTTQ"
   },
   "outputs": [],
   "source": [
    "output = anonymized_string.replace('_', ' ')"
   ]
  },
  {
   "cell_type": "code",
   "execution_count": 24,
   "metadata": {
    "colab": {
     "base_uri": "https://localhost:8080/",
     "height": 35
    },
    "id": "eOK6NMZjlLQb",
    "outputId": "0e1a3543-268a-4f9e-9aca-bed9e3d8f7b3"
   },
   "outputs": [
    {
     "data": {
      "text/plain": [
       "'Albert Einstein was born in Hammerschmidt Villa and lived in Mobage .'"
      ]
     },
     "execution_count": 24,
     "metadata": {},
     "output_type": "execute_result"
    }
   ],
   "source": [
    "output"
   ]
  },
  {
   "cell_type": "code",
   "execution_count": 25,
   "metadata": {
    "id": "9SE0xwsJ856w"
   },
   "outputs": [
    {
     "data": {
      "text/plain": [
       "['./word2vec.joblib']"
      ]
     },
     "execution_count": 25,
     "metadata": {},
     "output_type": "execute_result"
    }
   ],
   "source": [
    "joblib.dump(model, \"./word2vec.joblib\", compress=True)"
   ]
  },
  {
   "cell_type": "code",
   "execution_count": 26,
   "metadata": {},
   "outputs": [],
   "source": [
    "w2vmodel = joblib.load(\"./word2vec.joblib\")"
   ]
  },
  {
   "cell_type": "code",
   "execution_count": 27,
   "metadata": {
    "id": "bSU-svO1x0t-"
   },
   "outputs": [],
   "source": [
    "final_str = \"\"\n",
    "final_words = []\n",
    "tag_of_intrest = \"LOC\"\n",
    "idxs_of_tags = []"
   ]
  },
  {
   "cell_type": "code",
   "execution_count": 28,
   "metadata": {
    "id": "vc7LMM24wIhH"
   },
   "outputs": [],
   "source": [
    "i = 0\n",
    "for tpl in final_lst:\n",
    "  word = \"\"\n",
    "  if tpl[1] != 'O':\n",
    "    word = tpl[0].replace(' ', '_')\n",
    "    final_str = final_str + \" \" + word\n",
    "  else:\n",
    "    word = tpl[0]\n",
    "    final_str = final_str + \" \" + word\n",
    "  if tpl[1] == tag_of_intrest:\n",
    "    idxs_of_tags.append(i)\n",
    "\n",
    "  final_words.append(word)\n",
    "  i+=1\n",
    "\n",
    "final_str = final_str[1:]"
   ]
  },
  {
   "cell_type": "code",
   "execution_count": 29,
   "metadata": {
    "colab": {
     "base_uri": "https://localhost:8080/"
    },
    "id": "L_QAdCaczfwS",
    "outputId": "af344b4c-6b0c-47f4-c244-4a51e94176d8"
   },
   "outputs": [
    {
     "name": "stdout",
     "output_type": "stream",
     "text": [
      "Albert_Einstein was born in Germany and lived in England .\n",
      "['Albert_Einstein', 'was born in', 'Germany', 'and lived in', 'England', '.']\n",
      "[2, 4]\n"
     ]
    }
   ],
   "source": [
    "print(final_str)\n",
    "print(final_words)\n",
    "print(idxs_of_tags)"
   ]
  },
  {
   "cell_type": "code",
   "execution_count": 30,
   "metadata": {},
   "outputs": [],
   "source": [
    "look_up = {}\n",
    "\n",
    "top_n = 20"
   ]
  },
  {
   "cell_type": "code",
   "execution_count": 31,
   "metadata": {},
   "outputs": [],
   "source": [
    "for i in idxs_of_tags:\n",
    "  lst = []\n",
    "  w = final_words[i]\n",
    "  keys = list(look_up.keys())\n",
    "  values = list(look_up.values())\n",
    "  if w in keys:\n",
    "    final_words[i] = look_up[w]\n",
    "  else:\n",
    "    lst = w2vmodel.wv.most_similar(w, topn=top_n)\n",
    "    j=0\n",
    "    while j<top_n:\n",
    "      if lst[i][0] in values:\n",
    "        j+=1\n",
    "        continue\n",
    "      else:\n",
    "        break\n",
    "\n",
    "    if j<top_n:\n",
    "      final_words[i] = lst[j][0]\n",
    "      look_up[w] = lst[j][0]"
   ]
  },
  {
   "cell_type": "code",
   "execution_count": 32,
   "metadata": {
    "colab": {
     "base_uri": "https://localhost:8080/"
    },
    "id": "pwvWvIhcDTaf",
    "outputId": "517b95e3-9c5c-438c-e2e2-bf5f0eb023bf"
   },
   "outputs": [
    {
     "data": {
      "text/plain": [
       "{'Germany': 'Hammerschmidt_Villa', 'England': 'Mobage'}"
      ]
     },
     "execution_count": 32,
     "metadata": {},
     "output_type": "execute_result"
    }
   ],
   "source": [
    "look_up"
   ]
  },
  {
   "cell_type": "code",
   "execution_count": 33,
   "metadata": {
    "colab": {
     "base_uri": "https://localhost:8080/"
    },
    "id": "7D_rg-7eQ5xX",
    "outputId": "f4c698f7-02cf-496c-d96e-916b56791352",
    "scrolled": true
   },
   "outputs": [
    {
     "name": "stdout",
     "output_type": "stream",
     "text": [
      "['Albert_Einstein', 'was born in', 'Hammerschmidt_Villa', 'and lived in', 'Mobage', '.']\n"
     ]
    }
   ],
   "source": [
    "print(final_words)"
   ]
  },
  {
   "cell_type": "code",
   "execution_count": 34,
   "metadata": {
    "id": "ulcubrl8Q544"
   },
   "outputs": [],
   "source": [
    "anonymized_string = \"\"\n",
    "\n",
    "for w in final_words:\n",
    "  if anonymized_string == \"\":\n",
    "    anonymized_string = w\n",
    "  else:\n",
    "    anonymized_string = anonymized_string + \" \" + w"
   ]
  },
  {
   "cell_type": "code",
   "execution_count": 35,
   "metadata": {
    "colab": {
     "base_uri": "https://localhost:8080/"
    },
    "id": "BIsGyvJyErxa",
    "outputId": "fbe67cdc-888d-4bd4-96c7-6fd992e15619"
   },
   "outputs": [
    {
     "name": "stdout",
     "output_type": "stream",
     "text": [
      "Albert_Einstein was born in Hammerschmidt_Villa and lived in Mobage .\n"
     ]
    }
   ],
   "source": [
    "print(anonymized_string)"
   ]
  },
  {
   "cell_type": "code",
   "execution_count": 36,
   "metadata": {
    "id": "v66M3F04jTTQ"
   },
   "outputs": [],
   "source": [
    "output = anonymized_string.replace('_', ' ')"
   ]
  },
  {
   "cell_type": "code",
   "execution_count": 37,
   "metadata": {
    "colab": {
     "base_uri": "https://localhost:8080/",
     "height": 35
    },
    "id": "eOK6NMZjlLQb",
    "outputId": "0e1a3543-268a-4f9e-9aca-bed9e3d8f7b3"
   },
   "outputs": [
    {
     "data": {
      "text/plain": [
       "'Albert Einstein was born in Hammerschmidt Villa and lived in Mobage .'"
      ]
     },
     "execution_count": 37,
     "metadata": {},
     "output_type": "execute_result"
    }
   ],
   "source": [
    "output"
   ]
  },
  {
   "cell_type": "code",
   "execution_count": null,
   "metadata": {},
   "outputs": [],
   "source": []
  }
 ],
 "metadata": {
  "colab": {
   "collapsed_sections": [
    "8c6IQRIHoPCZ",
    "foAHHabWodPa",
    "oom0Xk2ji7rX",
    "MzPzJ_LjjDRS"
   ],
   "provenance": []
  },
  "kernelspec": {
   "display_name": "Python 3 (ipykernel)",
   "language": "python",
   "name": "python3"
  },
  "language_info": {
   "codemirror_mode": {
    "name": "ipython",
    "version": 3
   },
   "file_extension": ".py",
   "mimetype": "text/x-python",
   "name": "python",
   "nbconvert_exporter": "python",
   "pygments_lexer": "ipython3",
   "version": "3.9.6"
  }
 },
 "nbformat": 4,
 "nbformat_minor": 1
}
