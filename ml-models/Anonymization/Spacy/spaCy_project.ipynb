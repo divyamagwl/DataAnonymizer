{
 "cells": [
  {
   "cell_type": "code",
   "execution_count": 1,
   "id": "b1f79619",
   "metadata": {},
   "outputs": [],
   "source": [
    "import json\n",
    "import spacy\n",
    "from spacy import displacy"
   ]
  },
  {
   "cell_type": "code",
   "execution_count": 2,
   "id": "ae92c52c",
   "metadata": {},
   "outputs": [],
   "source": [
    "nlp = spacy.load(\"en_core_web_md\")  ##no need to execute everytime"
   ]
  },
  {
   "cell_type": "code",
   "execution_count": 3,
   "id": "b13434bf",
   "metadata": {},
   "outputs": [
    {
     "data": {
      "text/plain": [
       "('CARDINAL',\n",
       " 'DATE',\n",
       " 'EVENT',\n",
       " 'FAC',\n",
       " 'GPE',\n",
       " 'LANGUAGE',\n",
       " 'LAW',\n",
       " 'LOC',\n",
       " 'MONEY',\n",
       " 'NORP',\n",
       " 'ORDINAL',\n",
       " 'ORG',\n",
       " 'PERCENT',\n",
       " 'PERSON',\n",
       " 'PRODUCT',\n",
       " 'QUANTITY',\n",
       " 'TIME',\n",
       " 'WORK_OF_ART')"
      ]
     },
     "execution_count": 3,
     "metadata": {},
     "output_type": "execute_result"
    }
   ],
   "source": [
    "nlp.get_pipe(\"ner\").labels"
   ]
  },
  {
   "cell_type": "code",
   "execution_count": 2,
   "id": "6ea6d4d3",
   "metadata": {},
   "outputs": [],
   "source": [
    "# with open('C:/Users/naikp/Downloads/squad2.0/train-v2.0.json') as fp: #loading training data\n",
    "#     training_data = json.load(fp)   ####dictionary"
   ]
  },
  {
   "cell_type": "code",
   "execution_count": 156,
   "id": "c51c3634",
   "metadata": {},
   "outputs": [],
   "source": [
    "# text = \"Her first acting role of 2006 was in the comedy film The Pink Panther starring opposite Steve Martin, grossing $ 158.8 million at the box office worldwide. Her second film Dreamgirls, the film version of the 1981 Broadway musical loosely based on The Supremes, received acclaim from critics and grossed $154 million internationally. In it, she starred opposite Jennifer Hudson, Jamie Foxx, and Eddie Murphy playing a pop singer based on Diana Ross. To promote the film, Beyonce released \\\"Listen\\\" as the lead single from the soundtrack album. In April 2007, Beyonce embarked on The Beyonce Experience, her first worldwide concert tour, visiting 97 venues and grossed over $24 million.[note 1] Beyonce conducted pre-concert food donation drives during six major stops in conjunction with her pastor at St. John's and America's Second Harvest. At the same time, 'B'Day' was re-released with five additional songs, including her duet with Shakira \\\"Beautiful Liar\\\".\"\n",
    "text = \"Beyonce Knowles-Carter (bee-YON-say) (born September 4, 1981) is an American singer, songwriter, record producer and actress. Born and raised in Houston, Texas, she performed in various singing and dancing competitions as a child, and rose to fame in the late 1990s as lead singer of R&B girl-group Destiny's Child. Managed by her father, Mathew Knowles, the group became one of the world's best-selling girl groups of all time. Their hiatus saw the release of Beyonce's debut album, Dangerously in Love (2003), which established her as a solo artist worldwide, earned five Grammy Awards and featured the Billboard Hot 100 number-one singles \\\"Crazy in Love\\\" and \\\"Baby Boy\\\". 6557-2662-6932-6028.  credit card number: (1111)(9999)(7777)(1221)\""
   ]
  },
  {
   "cell_type": "code",
   "execution_count": 157,
   "id": "fcc656b7",
   "metadata": {},
   "outputs": [],
   "source": [
    "text1= nlp(text)"
   ]
  },
  {
   "cell_type": "code",
   "execution_count": 158,
   "id": "9d0dd412",
   "metadata": {},
   "outputs": [
    {
     "name": "stdout",
     "output_type": "stream",
     "text": [
      "Beyonce Knowles-Carter PERSON\n",
      "Mathew Knowles PERSON\n",
      "Beyonce PERSON\n",
      "Grammy Awards PERSON\n"
     ]
    }
   ],
   "source": [
    "for word in text1.ents:\n",
    "    if word.label_ == \"PERSON\":\n",
    "        print(word.text,word.label_)"
   ]
  },
  {
   "cell_type": "code",
   "execution_count": 63,
   "id": "26c4ccf9",
   "metadata": {},
   "outputs": [],
   "source": [
    "# displacy.render(text1, style=\"ent\",jupyter=True)"
   ]
  },
  {
   "cell_type": "code",
   "execution_count": 159,
   "id": "ed5ac2db",
   "metadata": {
    "scrolled": true
   },
   "outputs": [
    {
     "data": {
      "text/html": [
       "<div class=\"entities\" style=\"line-height: 2.5; direction: ltr\">\n",
       "<mark class=\"entity\" style=\"background: #aa9cfc; padding: 0.45em 0.6em; margin: 0 0.25em; line-height: 1; border-radius: 0.35em; box-decoration-break: clone; -webkit-box-decoration-break: clone\">\n",
       "    Beyonce Knowles-Carter\n",
       "    <span style=\"font-size: 0.8em; font-weight: bold; line-height: 1; border-radius: 0.35em; text-transform: uppercase; vertical-align: middle; margin-left: 0.5rem\">PERSON</span>\n",
       "</mark>\n",
       " (bee-YON-say) (born September 4, 1981) is an American singer, songwriter, record producer and actress. Born and raised in Houston, Texas, she performed in various singing and dancing competitions as a child, and rose to fame in the late 1990s as lead singer of R&amp;B girl-group Destiny's Child. Managed by her father, \n",
       "<mark class=\"entity\" style=\"background: #aa9cfc; padding: 0.45em 0.6em; margin: 0 0.25em; line-height: 1; border-radius: 0.35em; box-decoration-break: clone; -webkit-box-decoration-break: clone\">\n",
       "    Mathew Knowles\n",
       "    <span style=\"font-size: 0.8em; font-weight: bold; line-height: 1; border-radius: 0.35em; text-transform: uppercase; vertical-align: middle; margin-left: 0.5rem\">PERSON</span>\n",
       "</mark>\n",
       ", the group became one of the world's best-selling girl groups of all time. Their hiatus saw the release of \n",
       "<mark class=\"entity\" style=\"background: #aa9cfc; padding: 0.45em 0.6em; margin: 0 0.25em; line-height: 1; border-radius: 0.35em; box-decoration-break: clone; -webkit-box-decoration-break: clone\">\n",
       "    Beyonce\n",
       "    <span style=\"font-size: 0.8em; font-weight: bold; line-height: 1; border-radius: 0.35em; text-transform: uppercase; vertical-align: middle; margin-left: 0.5rem\">PERSON</span>\n",
       "</mark>\n",
       "'s debut album, Dangerously in Love (2003), which established her as a solo artist worldwide, earned five \n",
       "<mark class=\"entity\" style=\"background: #aa9cfc; padding: 0.45em 0.6em; margin: 0 0.25em; line-height: 1; border-radius: 0.35em; box-decoration-break: clone; -webkit-box-decoration-break: clone\">\n",
       "    Grammy Awards\n",
       "    <span style=\"font-size: 0.8em; font-weight: bold; line-height: 1; border-radius: 0.35em; text-transform: uppercase; vertical-align: middle; margin-left: 0.5rem\">PERSON</span>\n",
       "</mark>\n",
       " and featured the Billboard Hot 100 number-one singles &quot;Crazy in Love&quot; and &quot;Baby Boy&quot;. 6557-2662-6932-6028.  credit card number: (1111)(9999)(7777)(1221)</div>"
      ],
      "text/plain": [
       "<IPython.core.display.HTML object>"
      ]
     },
     "metadata": {},
     "output_type": "display_data"
    }
   ],
   "source": [
    "options = {\"ents\": [\"PERSON\"]}\n",
    "displacy.render(text1, style=\"ent\", options=options)"
   ]
  },
  {
   "cell_type": "code",
   "execution_count": 160,
   "id": "b755a99a",
   "metadata": {},
   "outputs": [
    {
     "data": {
      "text/html": [
       "<div class=\"entities\" style=\"line-height: 2.5; direction: ltr\">Beyonce Knowles-Carter (bee-YON-say) (born September 4, 1981) is an American singer, songwriter, record producer and actress. Born and raised in \n",
       "<mark class=\"entity\" style=\"background: #feca74; padding: 0.45em 0.6em; margin: 0 0.25em; line-height: 1; border-radius: 0.35em; box-decoration-break: clone; -webkit-box-decoration-break: clone\">\n",
       "    Houston\n",
       "    <span style=\"font-size: 0.8em; font-weight: bold; line-height: 1; border-radius: 0.35em; text-transform: uppercase; vertical-align: middle; margin-left: 0.5rem\">GPE</span>\n",
       "</mark>\n",
       ", \n",
       "<mark class=\"entity\" style=\"background: #feca74; padding: 0.45em 0.6em; margin: 0 0.25em; line-height: 1; border-radius: 0.35em; box-decoration-break: clone; -webkit-box-decoration-break: clone\">\n",
       "    Texas\n",
       "    <span style=\"font-size: 0.8em; font-weight: bold; line-height: 1; border-radius: 0.35em; text-transform: uppercase; vertical-align: middle; margin-left: 0.5rem\">GPE</span>\n",
       "</mark>\n",
       ", she performed in various singing and dancing competitions as a child, and rose to fame in the late 1990s as lead singer of R&amp;B girl-group Destiny's Child. Managed by her father, Mathew Knowles, the group became one of the world's best-selling girl groups of all time. Their hiatus saw the release of Beyonce's debut album, Dangerously in Love (2003), which established her as a solo artist worldwide, earned five Grammy Awards and featured the Billboard Hot 100 number-one singles &quot;Crazy in Love&quot; and &quot;Baby Boy&quot;. 6557-2662-6932-6028.  credit card number: (1111)(9999)(7777)(1221)</div>"
      ],
      "text/plain": [
       "<IPython.core.display.HTML object>"
      ]
     },
     "metadata": {},
     "output_type": "display_data"
    }
   ],
   "source": [
    "options = {\"ents\": [\"GPE\", \"LOC\"]}\n",
    "displacy.render(text1, style=\"ent\", options=options)"
   ]
  },
  {
   "cell_type": "code",
   "execution_count": 161,
   "id": "43d12370",
   "metadata": {},
   "outputs": [
    {
     "data": {
      "text/html": [
       "<div class=\"entities\" style=\"line-height: 2.5; direction: ltr\">Beyonce Knowles-Carter (bee-YON-say) (born September 4, 1981) is an American singer, songwriter, record producer and actress. Born and raised in Houston, Texas, she performed in various singing and dancing competitions as a child, and rose to fame in the late 1990s as lead singer of \n",
       "<mark class=\"entity\" style=\"background: #7aecec; padding: 0.45em 0.6em; margin: 0 0.25em; line-height: 1; border-radius: 0.35em; box-decoration-break: clone; -webkit-box-decoration-break: clone\">\n",
       "    R&amp;B\n",
       "    <span style=\"font-size: 0.8em; font-weight: bold; line-height: 1; border-radius: 0.35em; text-transform: uppercase; vertical-align: middle; margin-left: 0.5rem\">ORG</span>\n",
       "</mark>\n",
       " girl-group Destiny's Child. Managed by her father, Mathew Knowles, the group became one of the world's best-selling girl groups of all time. Their hiatus saw the release of Beyonce's debut album, Dangerously in Love (2003), which established her as a solo artist worldwide, earned five Grammy Awards and featured the \n",
       "<mark class=\"entity\" style=\"background: #7aecec; padding: 0.45em 0.6em; margin: 0 0.25em; line-height: 1; border-radius: 0.35em; box-decoration-break: clone; -webkit-box-decoration-break: clone\">\n",
       "    Billboard\n",
       "    <span style=\"font-size: 0.8em; font-weight: bold; line-height: 1; border-radius: 0.35em; text-transform: uppercase; vertical-align: middle; margin-left: 0.5rem\">ORG</span>\n",
       "</mark>\n",
       " Hot 100 number-one singles &quot;Crazy in Love&quot; and &quot;Baby Boy&quot;. 6557-2662-6932-6028.  credit card number: (1111)(9999)(7777)(1221)</div>"
      ],
      "text/plain": [
       "<IPython.core.display.HTML object>"
      ]
     },
     "metadata": {},
     "output_type": "display_data"
    }
   ],
   "source": [
    "options = {\"ents\": [\"ORG\"]}\n",
    "displacy.render(text1, style=\"ent\", options=options)"
   ]
  },
  {
   "cell_type": "code",
   "execution_count": 162,
   "id": "84b50259",
   "metadata": {},
   "outputs": [
    {
     "data": {
      "text/plain": [
       "['6557-2662-6932-6028', '(1111)(9999)(7777)(1221)']"
      ]
     },
     "execution_count": 162,
     "metadata": {},
     "output_type": "execute_result"
    }
   ],
   "source": [
    "import re\n",
    "pattern1='\\d{4} \\d{4} \\d{4} \\d{4}|\\(\\d{4}\\)\\(\\d{4}\\)\\(\\d{4}\\)\\(\\d{4}\\)|\\d{4}-\\d{4}-\\d{4}-\\d{4}'\n",
    "matches= re.findall(pattern1,text)\n",
    "matches"
   ]
  },
  {
   "cell_type": "code",
   "execution_count": 163,
   "id": "ab2463f7",
   "metadata": {},
   "outputs": [],
   "source": [
    "import rsa"
   ]
  },
  {
   "cell_type": "code",
   "execution_count": 164,
   "id": "3da02916",
   "metadata": {},
   "outputs": [],
   "source": [
    "publicKey, privateKey = rsa.newkeys(512)"
   ]
  },
  {
   "cell_type": "code",
   "execution_count": 165,
   "id": "857a3312",
   "metadata": {},
   "outputs": [],
   "source": [
    "message = \"Prachi Naik\""
   ]
  },
  {
   "cell_type": "code",
   "execution_count": 166,
   "id": "91c1fe2a",
   "metadata": {},
   "outputs": [
    {
     "name": "stdout",
     "output_type": "stream",
     "text": [
      "original string:  Prachi Naik\n",
      "encrypted string:  b'\\x99\\r\\x0f\\xde\\x8a\\x94\\xea\\xf3q\\xd7\\xbf\\x8b\\xbf\\x935\\xc6\\x82\\xe6\\x0b1N\\xdda+^\\xe0\\x87GLm\\x05h\\xcf<\\xf4l\\xeb9\\x9b\\x91\\x08$\\x8bGfWZJl?\\xc5\"\\xbb\\xf4\\x13[E\\xc0\\xcb/\\x15\\x0c\\xdd\\xc5'\n"
     ]
    }
   ],
   "source": [
    "encMessage = rsa.encrypt(message.encode(),publicKey)\n",
    " \n",
    "print(\"original string: \", message)\n",
    "print(\"encrypted string: \", encMessage)"
   ]
  },
  {
   "cell_type": "code",
   "execution_count": 167,
   "id": "963392dc",
   "metadata": {},
   "outputs": [
    {
     "name": "stdout",
     "output_type": "stream",
     "text": [
      "decrypted string:  Prachi Naik\n"
     ]
    }
   ],
   "source": [
    "decMessage = rsa.decrypt(encMessage, privateKey).decode()\n",
    " \n",
    "print(\"decrypted string: \", decMessage)"
   ]
  },
  {
   "cell_type": "code",
   "execution_count": 194,
   "id": "d1330d61",
   "metadata": {},
   "outputs": [
    {
     "name": "stdout",
     "output_type": "stream",
     "text": [
      "<class 'str'>\n",
      "<class 'tuple'>\n",
      "<class 'spacy.tokens.span.Span'>\n",
      "<class 'str'>\n",
      "['Beyonce_Knowles-Carter', 'Mathew_Knowles', 'Beyonce', 'Grammy_Awards']\n"
     ]
    }
   ],
   "source": [
    "persons = []\n",
    "anonymised_text = \"Beyonce Knowles-Carter (bee-YON-say) (born September 4, 1981) is an American singer, songwriter, record producer and actress. Born and raised in Houston, Texas, she performed in various singing and dancing competitions as a child, and rose to fame in the late 1990s as lead singer of R&B girl-group Destiny's Child. Managed by her father, Mathew Knowles, the group became one of the world's best-selling girl groups of all time. Their hiatus saw the release of Beyonce's debut album, Dangerously in Love (2003), which established her as a solo artist worldwide, earned five Grammy Awards and featured the Billboard Hot 100 number-one singles \\\"Crazy in Love\\\" and \\\"Baby Boy\\\". 6557-2662-6932-6028.  credit card number: (1111)(9999)(7777)(1221)\"\n",
    "text1= nlp(anonymised_text)\n",
    "# print(type(persons))\n",
    "for word in text1.ents:\n",
    "    if word.label_ == \"PERSON\":\n",
    "#         print(word)  \n",
    "#         print(word.text,word.label_)\n",
    "        persons.append(str(word).replace(' ','_'))\n",
    "        anonymised_text = anonymised_text.replace(str(word) , str(word).replace(' ','_'))\n",
    "        \n",
    "print(type(word.label_))\n",
    "print(type(text1.ents))\n",
    "print(type(word))\n",
    "print(type(str(word)))\n",
    "\n",
    "print(persons)"
   ]
  },
  {
   "cell_type": "code",
   "execution_count": 195,
   "id": "92294f59",
   "metadata": {},
   "outputs": [],
   "source": [
    "for i in persons:\n",
    "    anonymised_text = anonymised_text.replace(i, \"<PERSON>\")"
   ]
  },
  {
   "cell_type": "code",
   "execution_count": 196,
   "id": "904b5405",
   "metadata": {},
   "outputs": [
    {
     "data": {
      "text/plain": [
       "'<PERSON> (bee-YON-say) (born September 4, 1981) is an American singer, songwriter, record producer and actress. Born and raised in Houston, Texas, she performed in various singing and dancing competitions as a child, and rose to fame in the late 1990s as lead singer of R&B girl-group Destiny\\'s Child. Managed by her father, <PERSON>, the group became one of the world\\'s best-selling girl groups of all time. Their hiatus saw the release of <PERSON>\\'s debut album, Dangerously in Love (2003), which established her as a solo artist worldwide, earned five <PERSON> and featured the Billboard Hot 100 number-one singles \"Crazy in Love\" and \"Baby Boy\". 6557-2662-6932-6028.  credit card number: (1111)(9999)(7777)(1221)'"
      ]
     },
     "execution_count": 196,
     "metadata": {},
     "output_type": "execute_result"
    }
   ],
   "source": [
    "anonymised_text"
   ]
  },
  {
   "cell_type": "code",
   "execution_count": null,
   "id": "6467c203",
   "metadata": {},
   "outputs": [],
   "source": []
  }
 ],
 "metadata": {
  "kernelspec": {
   "display_name": "Python 3 (ipykernel)",
   "language": "python",
   "name": "python3"
  },
  "language_info": {
   "codemirror_mode": {
    "name": "ipython",
    "version": 3
   },
   "file_extension": ".py",
   "mimetype": "text/x-python",
   "name": "python",
   "nbconvert_exporter": "python",
   "pygments_lexer": "ipython3",
   "version": "3.9.6"
  }
 },
 "nbformat": 4,
 "nbformat_minor": 5
}
